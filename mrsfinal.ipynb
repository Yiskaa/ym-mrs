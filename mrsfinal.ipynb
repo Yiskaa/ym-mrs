{
 "cells": [
  {
   "cell_type": "code",
   "execution_count": 1,
   "metadata": {
    "executionInfo": {
     "elapsed": 502,
     "status": "ok",
     "timestamp": 1732716106079,
     "user": {
      "displayName": "Yiskaa",
      "userId": "Hidden"
     },
     "user_tz": -330
    },
    "id": "Ec-_k3hn6kjU"
   },
   "outputs": [],
   "source": [
    "import pandas as pd\n",
    "import numpy as np"
   ]
  },
  {
   "cell_type": "code",
   "execution_count": 2,
   "metadata": {
    "colab": {
     "base_uri": "https://localhost:8080/"
    },
    "executionInfo": {
     "elapsed": 2783,
     "status": "ok",
     "timestamp": 1732716393899,
     "user": {
      "displayName": "Yiskaa",
      "userId": "Hidden"
     },
     "user_tz": -330
    },
    "id": "QS2I20le6kjV",
    "outputId": "84ab0a5f-d597-46d4-d119-b5491a890d8a"
   },
   "outputs": [
    {
     "name": "stderr",
     "output_type": "stream",
     "text": [
      "DtypeWarning: Columns (7) have mixed types. Specify dtype option on import or set low_memory=False.\n",
      "  movie_metadata = pd.read_csv(\"MoviesMetaData.csv\", sep=';', encoding='latin1')\n"
     ]
    }
   ],
   "source": [
    "movie_details = pd.read_csv(\"MovieDetails.csv\", encoding='latin1')\n",
    "movie_metadata = pd.read_csv(\"MoviesMetaData.csv\", sep=';', encoding='latin1')"
   ]
  },
  {
   "cell_type": "code",
   "execution_count": 3,
   "metadata": {
    "colab": {
     "base_uri": "https://localhost:8080/"
    },
    "executionInfo": {
     "elapsed": 398,
     "status": "ok",
     "timestamp": 1732716397230,
     "user": {
      "displayName": "Yiskaa",
      "userId": "Hidden"
     },
     "user_tz": -330
    },
    "id": "5PWKsrYh6kjV",
    "outputId": "cdfd46f8-84d9-411e-e190-ed96c22994da"
   },
   "outputs": [
    {
     "name": "stdout",
     "output_type": "stream",
     "text": [
      "Empty DataFrame\n",
      "Columns: [imdbId, Imdb Link, Title, IMDB Score, Genre, Poster]\n",
      "Index: []\n",
      "Empty DataFrame\n",
      "Columns: [ï»¿id, budget, genres, imdb_id, original_language, original_title, overview, popularity, production_companies, production_countries, release_date, revenue, runtime, spoken_languages, status, tagline, title, vote_average, vote_count, production_companies_number, production_countries_number, spoken_languages_number]\n",
      "Index: []\n",
      "\n",
      "[0 rows x 22 columns]\n"
     ]
    }
   ],
   "source": [
    "print(movie_details.head(0))\n",
    "print(movie_metadata.head(0))"
   ]
  },
  {
   "cell_type": "code",
   "execution_count": 4,
   "metadata": {
    "executionInfo": {
     "elapsed": 396,
     "status": "ok",
     "timestamp": 1732716399908,
     "user": {
      "displayName": "Yiskaa",
      "userId": "Hidden"
     },
     "user_tz": -330
    },
    "id": "DgTXyM4o_txJ"
   },
   "outputs": [],
   "source": [
    "movie_details = movie_details[[\"imdbId\",\"Poster\"]]\n",
    "movie_metadata = movie_metadata[[\"imdb_id\",\"title\",\"genres\",\"original_language\",\"overview\",\"release_date\"]]"
   ]
  },
  {
   "cell_type": "code",
   "execution_count": 5,
   "metadata": {
    "colab": {
     "base_uri": "https://localhost:8080/"
    },
    "executionInfo": {
     "elapsed": 415,
     "status": "ok",
     "timestamp": 1732716402738,
     "user": {
      "displayName": "Yiskaa",
      "userId": "Hidden"
     },
     "user_tz": -330
    },
    "id": "RGvH8yJF_xZW",
    "outputId": "cdfa0103-38e2-4ab1-bd95-1784dbd2dbe1"
   },
   "outputs": [
    {
     "name": "stdout",
     "output_type": "stream",
     "text": [
      "Empty DataFrame\n",
      "Columns: [imdb_id, posters]\n",
      "Index: []\n"
     ]
    }
   ],
   "source": [
    "movie_details = movie_details.rename(columns={movie_details.columns[0]: \"imdb_id\", movie_details.columns[1]:\"posters\"})\n",
    "print(movie_details.head(0))"
   ]
  },
  {
   "cell_type": "code",
   "execution_count": 6,
   "metadata": {
    "colab": {
     "base_uri": "https://localhost:8080/",
     "height": 458
    },
    "executionInfo": {
     "elapsed": 524,
     "status": "ok",
     "timestamp": 1732716404723,
     "user": {
      "displayName": "Yiskaa",
      "userId": "Hidden"
     },
     "user_tz": -330
    },
    "id": "JyLOEDPY9py2",
    "outputId": "eb8bac89-5d27-485e-8b9d-6c0fa26ae1cd"
   },
   "outputs": [
    {
     "data": {
      "text/plain": [
       "0        114709\n",
       "1        113497\n",
       "2        113228\n",
       "3        114885\n",
       "4        113041\n",
       "          ...  \n",
       "40103     83168\n",
       "40104     82875\n",
       "40105    815258\n",
       "40106     79142\n",
       "40107     70710\n",
       "Name: imdb_id, Length: 40108, dtype: int64"
      ]
     },
     "execution_count": 6,
     "metadata": {},
     "output_type": "execute_result"
    }
   ],
   "source": [
    "movie_details[\"imdb_id\"]"
   ]
  },
  {
   "cell_type": "code",
   "execution_count": 7,
   "metadata": {
    "colab": {
     "base_uri": "https://localhost:8080/",
     "height": 458
    },
    "executionInfo": {
     "elapsed": 418,
     "status": "ok",
     "timestamp": 1732716407889,
     "user": {
      "displayName": "Yiskaa",
      "userId": "Hidden"
     },
     "user_tz": -330
    },
    "id": "Ao8qMpJm9eA3",
    "outputId": "7e048d4b-8ccd-4341-e6f7-b3d39667bf69"
   },
   "outputs": [
    {
     "data": {
      "text/plain": [
       "0         tt0094675\n",
       "1         tt0092149\n",
       "2         tt0113101\n",
       "3         tt0107286\n",
       "4         tt0825671\n",
       "            ...    \n",
       "329039    tt5430190\n",
       "329040          NaN\n",
       "329041          NaN\n",
       "329042    tt6391664\n",
       "329043    tt6413160\n",
       "Name: imdb_id, Length: 329044, dtype: object"
      ]
     },
     "execution_count": 7,
     "metadata": {},
     "output_type": "execute_result"
    }
   ],
   "source": [
    "movie_metadata[\"imdb_id\"]"
   ]
  },
  {
   "cell_type": "code",
   "execution_count": 8,
   "metadata": {
    "executionInfo": {
     "elapsed": 414,
     "status": "ok",
     "timestamp": 1732716411366,
     "user": {
      "displayName": "Yiskaa",
      "userId": "Hidden"
     },
     "user_tz": -330
    },
    "id": "eOmstm9_7QWc"
   },
   "outputs": [],
   "source": [
    "movie_details['imdb_id_formatted'] = movie_details['imdb_id'].apply(lambda x: f\"tt{x:07d}\")"
   ]
  },
  {
   "cell_type": "code",
   "execution_count": 9,
   "metadata": {
    "executionInfo": {
     "elapsed": 457,
     "status": "ok",
     "timestamp": 1732716413532,
     "user": {
      "displayName": "Yiskaa",
      "userId": "Hidden"
     },
     "user_tz": -330
    },
    "id": "WQ362XDI4SJz"
   },
   "outputs": [],
   "source": [
    "movies = movie_details.merge(movie_metadata, left_on='imdb_id_formatted', right_on='imdb_id', how='inner')\n"
   ]
  },
  {
   "cell_type": "code",
   "execution_count": 10,
   "metadata": {
    "colab": {
     "base_uri": "https://localhost:8080/",
     "height": 115
    },
    "executionInfo": {
     "elapsed": 410,
     "status": "ok",
     "timestamp": 1732716417369,
     "user": {
      "displayName": "Yiskaa",
      "userId": "Hidden"
     },
     "user_tz": -330
    },
    "id": "q8iiAKy95CnB",
    "outputId": "f39505a6-ae8a-4678-8675-f8f2ef495038"
   },
   "outputs": [
    {
     "data": {
      "text/html": [
       "<div>\n",
       "<style scoped>\n",
       "    .dataframe tbody tr th:only-of-type {\n",
       "        vertical-align: middle;\n",
       "    }\n",
       "\n",
       "    .dataframe tbody tr th {\n",
       "        vertical-align: top;\n",
       "    }\n",
       "\n",
       "    .dataframe thead th {\n",
       "        text-align: right;\n",
       "    }\n",
       "</style>\n",
       "<table border=\"1\" class=\"dataframe\">\n",
       "  <thead>\n",
       "    <tr style=\"text-align: right;\">\n",
       "      <th></th>\n",
       "      <th>imdb_id_x</th>\n",
       "      <th>posters</th>\n",
       "      <th>imdb_id_formatted</th>\n",
       "      <th>imdb_id_y</th>\n",
       "      <th>title</th>\n",
       "      <th>genres</th>\n",
       "      <th>original_language</th>\n",
       "      <th>overview</th>\n",
       "      <th>release_date</th>\n",
       "    </tr>\n",
       "  </thead>\n",
       "  <tbody>\n",
       "    <tr>\n",
       "      <th>0</th>\n",
       "      <td>114709</td>\n",
       "      <td>https://images-na.ssl-images-amazon.com/images...</td>\n",
       "      <td>tt0114709</td>\n",
       "      <td>tt0114709</td>\n",
       "      <td>Toy Story</td>\n",
       "      <td>Animation|Comedy|Family</td>\n",
       "      <td>en</td>\n",
       "      <td>Led by Woody, Andy's toys live happily in his ...</td>\n",
       "      <td>30/10/1995</td>\n",
       "    </tr>\n",
       "  </tbody>\n",
       "</table>\n",
       "</div>"
      ],
      "text/plain": [
       "   imdb_id_x                                            posters  \\\n",
       "0     114709  https://images-na.ssl-images-amazon.com/images...   \n",
       "\n",
       "  imdb_id_formatted  imdb_id_y      title                   genres  \\\n",
       "0         tt0114709  tt0114709  Toy Story  Animation|Comedy|Family   \n",
       "\n",
       "  original_language                                           overview  \\\n",
       "0                en  Led by Woody, Andy's toys live happily in his ...   \n",
       "\n",
       "  release_date  \n",
       "0   30/10/1995  "
      ]
     },
     "execution_count": 10,
     "metadata": {},
     "output_type": "execute_result"
    }
   ],
   "source": [
    "movies.head(1)"
   ]
  },
  {
   "cell_type": "code",
   "execution_count": 11,
   "metadata": {
    "colab": {
     "base_uri": "https://localhost:8080/",
     "height": 335
    },
    "executionInfo": {
     "elapsed": 431,
     "status": "ok",
     "timestamp": 1732716419933,
     "user": {
      "displayName": "Yiskaa",
      "userId": "Hidden"
     },
     "user_tz": -330
    },
    "id": "-TukoL1E5b9y",
    "outputId": "51762d92-a3e5-45c6-aca9-763eb8a69393"
   },
   "outputs": [
    {
     "data": {
      "text/plain": [
       "imdb_id_x               0\n",
       "posters               628\n",
       "imdb_id_formatted       0\n",
       "imdb_id_y               0\n",
       "title                   0\n",
       "genres               2076\n",
       "original_language       5\n",
       "overview              738\n",
       "release_date           57\n",
       "dtype: int64"
      ]
     },
     "execution_count": 11,
     "metadata": {},
     "output_type": "execute_result"
    }
   ],
   "source": [
    "movies.isnull().sum()"
   ]
  },
  {
   "cell_type": "code",
   "execution_count": 12,
   "metadata": {
    "executionInfo": {
     "elapsed": 2,
     "status": "ok",
     "timestamp": 1732716422243,
     "user": {
      "displayName": "Yiskaa",
      "userId": "Hidden"
     },
     "user_tz": -330
    },
    "id": "xCF_Eg6t5_wh"
   },
   "outputs": [],
   "source": [
    "movies = movies.dropna()"
   ]
  },
  {
   "cell_type": "code",
   "execution_count": 13,
   "metadata": {
    "colab": {
     "base_uri": "https://localhost:8080/",
     "height": 874
    },
    "executionInfo": {
     "elapsed": 442,
     "status": "ok",
     "timestamp": 1732716424828,
     "user": {
      "displayName": "Yiskaa",
      "userId": "Hidden"
     },
     "user_tz": -330
    },
    "id": "dv3gmXCM7QWd",
    "outputId": "332e59d8-38c8-4fb3-db7f-fe6b518b8b0c"
   },
   "outputs": [
    {
     "data": {
      "text/html": [
       "<div>\n",
       "<style scoped>\n",
       "    .dataframe tbody tr th:only-of-type {\n",
       "        vertical-align: middle;\n",
       "    }\n",
       "\n",
       "    .dataframe tbody tr th {\n",
       "        vertical-align: top;\n",
       "    }\n",
       "\n",
       "    .dataframe thead th {\n",
       "        text-align: right;\n",
       "    }\n",
       "</style>\n",
       "<table border=\"1\" class=\"dataframe\">\n",
       "  <thead>\n",
       "    <tr style=\"text-align: right;\">\n",
       "      <th></th>\n",
       "      <th>imdb_id_x</th>\n",
       "      <th>posters</th>\n",
       "      <th>imdb_id_formatted</th>\n",
       "      <th>imdb_id_y</th>\n",
       "      <th>title</th>\n",
       "      <th>genres</th>\n",
       "      <th>original_language</th>\n",
       "      <th>overview</th>\n",
       "      <th>release_date</th>\n",
       "    </tr>\n",
       "  </thead>\n",
       "  <tbody>\n",
       "    <tr>\n",
       "      <th>0</th>\n",
       "      <td>114709</td>\n",
       "      <td>https://images-na.ssl-images-amazon.com/images...</td>\n",
       "      <td>tt0114709</td>\n",
       "      <td>tt0114709</td>\n",
       "      <td>Toy Story</td>\n",
       "      <td>Animation|Comedy|Family</td>\n",
       "      <td>en</td>\n",
       "      <td>Led by Woody, Andy's toys live happily in his ...</td>\n",
       "      <td>30/10/1995</td>\n",
       "    </tr>\n",
       "    <tr>\n",
       "      <th>1</th>\n",
       "      <td>113497</td>\n",
       "      <td>https://images-na.ssl-images-amazon.com/images...</td>\n",
       "      <td>tt0113497</td>\n",
       "      <td>tt0113497</td>\n",
       "      <td>Jumanji</td>\n",
       "      <td>Adventure|Fantasy|Family</td>\n",
       "      <td>en</td>\n",
       "      <td>When siblings Judy and Peter discover an encha...</td>\n",
       "      <td>15/12/1995</td>\n",
       "    </tr>\n",
       "    <tr>\n",
       "      <th>2</th>\n",
       "      <td>113228</td>\n",
       "      <td>https://images-na.ssl-images-amazon.com/images...</td>\n",
       "      <td>tt0113228</td>\n",
       "      <td>tt0113228</td>\n",
       "      <td>Grumpier Old Men</td>\n",
       "      <td>Romance|Comedy</td>\n",
       "      <td>en</td>\n",
       "      <td>A family wedding reignites the ancient feud be...</td>\n",
       "      <td>22/12/1995</td>\n",
       "    </tr>\n",
       "    <tr>\n",
       "      <th>3</th>\n",
       "      <td>114885</td>\n",
       "      <td>https://images-na.ssl-images-amazon.com/images...</td>\n",
       "      <td>tt0114885</td>\n",
       "      <td>tt0114885</td>\n",
       "      <td>Waiting to Exhale</td>\n",
       "      <td>Comedy|Drama|Romance</td>\n",
       "      <td>en</td>\n",
       "      <td>Cheated on, mistreated and stepped on, the wom...</td>\n",
       "      <td>22/12/1995</td>\n",
       "    </tr>\n",
       "    <tr>\n",
       "      <th>4</th>\n",
       "      <td>113041</td>\n",
       "      <td>https://images-na.ssl-images-amazon.com/images...</td>\n",
       "      <td>tt0113041</td>\n",
       "      <td>tt0113041</td>\n",
       "      <td>Father of the Bride Part II</td>\n",
       "      <td>Comedy</td>\n",
       "      <td>en</td>\n",
       "      <td>Just when George Banks has recovered from his ...</td>\n",
       "      <td>10/02/1995</td>\n",
       "    </tr>\n",
       "    <tr>\n",
       "      <th>...</th>\n",
       "      <td>...</td>\n",
       "      <td>...</td>\n",
       "      <td>...</td>\n",
       "      <td>...</td>\n",
       "      <td>...</td>\n",
       "      <td>...</td>\n",
       "      <td>...</td>\n",
       "      <td>...</td>\n",
       "      <td>...</td>\n",
       "    </tr>\n",
       "    <tr>\n",
       "      <th>39536</th>\n",
       "      <td>88757</td>\n",
       "      <td>https://images-na.ssl-images-amazon.com/images...</td>\n",
       "      <td>tt0088757</td>\n",
       "      <td>tt0088757</td>\n",
       "      <td>Avenging Angel</td>\n",
       "      <td>Action|Thriller</td>\n",
       "      <td>en</td>\n",
       "      <td>Molly, former baby prostitute \"Angel\" from Sun...</td>\n",
       "      <td>11/01/1985</td>\n",
       "    </tr>\n",
       "    <tr>\n",
       "      <th>39537</th>\n",
       "      <td>83291</td>\n",
       "      <td>https://images-na.ssl-images-amazon.com/images...</td>\n",
       "      <td>tt0083291</td>\n",
       "      <td>tt0083291</td>\n",
       "      <td>Mad Foxes</td>\n",
       "      <td>Horror|Action|Thriller|Crime</td>\n",
       "      <td>es</td>\n",
       "      <td>A man seeks revenge after a biker gang murders...</td>\n",
       "      <td>01/01/1981</td>\n",
       "    </tr>\n",
       "    <tr>\n",
       "      <th>39538</th>\n",
       "      <td>83168</td>\n",
       "      <td>https://images-na.ssl-images-amazon.com/images...</td>\n",
       "      <td>tt0083168</td>\n",
       "      <td>tt0083168</td>\n",
       "      <td>Tanya's Island</td>\n",
       "      <td>Fantasy|Drama|Romance</td>\n",
       "      <td>en</td>\n",
       "      <td>Tanya is a female model who lives with her boy...</td>\n",
       "      <td>05/12/1980</td>\n",
       "    </tr>\n",
       "    <tr>\n",
       "      <th>39539</th>\n",
       "      <td>82875</td>\n",
       "      <td>https://images-na.ssl-images-amazon.com/images...</td>\n",
       "      <td>tt0082875</td>\n",
       "      <td>tt0082875</td>\n",
       "      <td>Pacific Banana</td>\n",
       "      <td>Comedy</td>\n",
       "      <td>en</td>\n",
       "      <td>The story of a pair of Australian pilots worki...</td>\n",
       "      <td>04/02/1981</td>\n",
       "    </tr>\n",
       "    <tr>\n",
       "      <th>39541</th>\n",
       "      <td>79142</td>\n",
       "      <td>https://images-na.ssl-images-amazon.com/images...</td>\n",
       "      <td>tt0079142</td>\n",
       "      <td>tt0079142</td>\n",
       "      <td>The Fearless Young Boxer</td>\n",
       "      <td>Action</td>\n",
       "      <td>en</td>\n",
       "      <td>While on a fishing trip, Shao Lung's father is...</td>\n",
       "      <td>01/01/1979</td>\n",
       "    </tr>\n",
       "  </tbody>\n",
       "</table>\n",
       "<p>36564 rows × 9 columns</p>\n",
       "</div>"
      ],
      "text/plain": [
       "       imdb_id_x                                            posters  \\\n",
       "0         114709  https://images-na.ssl-images-amazon.com/images...   \n",
       "1         113497  https://images-na.ssl-images-amazon.com/images...   \n",
       "2         113228  https://images-na.ssl-images-amazon.com/images...   \n",
       "3         114885  https://images-na.ssl-images-amazon.com/images...   \n",
       "4         113041  https://images-na.ssl-images-amazon.com/images...   \n",
       "...          ...                                                ...   \n",
       "39536      88757  https://images-na.ssl-images-amazon.com/images...   \n",
       "39537      83291  https://images-na.ssl-images-amazon.com/images...   \n",
       "39538      83168  https://images-na.ssl-images-amazon.com/images...   \n",
       "39539      82875  https://images-na.ssl-images-amazon.com/images...   \n",
       "39541      79142  https://images-na.ssl-images-amazon.com/images...   \n",
       "\n",
       "      imdb_id_formatted  imdb_id_y                        title  \\\n",
       "0             tt0114709  tt0114709                    Toy Story   \n",
       "1             tt0113497  tt0113497                      Jumanji   \n",
       "2             tt0113228  tt0113228             Grumpier Old Men   \n",
       "3             tt0114885  tt0114885            Waiting to Exhale   \n",
       "4             tt0113041  tt0113041  Father of the Bride Part II   \n",
       "...                 ...        ...                          ...   \n",
       "39536         tt0088757  tt0088757               Avenging Angel   \n",
       "39537         tt0083291  tt0083291                    Mad Foxes   \n",
       "39538         tt0083168  tt0083168               Tanya's Island   \n",
       "39539         tt0082875  tt0082875               Pacific Banana   \n",
       "39541         tt0079142  tt0079142     The Fearless Young Boxer   \n",
       "\n",
       "                             genres original_language  \\\n",
       "0           Animation|Comedy|Family                en   \n",
       "1          Adventure|Fantasy|Family                en   \n",
       "2                    Romance|Comedy                en   \n",
       "3              Comedy|Drama|Romance                en   \n",
       "4                            Comedy                en   \n",
       "...                             ...               ...   \n",
       "39536               Action|Thriller                en   \n",
       "39537  Horror|Action|Thriller|Crime                es   \n",
       "39538         Fantasy|Drama|Romance                en   \n",
       "39539                        Comedy                en   \n",
       "39541                        Action                en   \n",
       "\n",
       "                                                overview release_date  \n",
       "0      Led by Woody, Andy's toys live happily in his ...   30/10/1995  \n",
       "1      When siblings Judy and Peter discover an encha...   15/12/1995  \n",
       "2      A family wedding reignites the ancient feud be...   22/12/1995  \n",
       "3      Cheated on, mistreated and stepped on, the wom...   22/12/1995  \n",
       "4      Just when George Banks has recovered from his ...   10/02/1995  \n",
       "...                                                  ...          ...  \n",
       "39536  Molly, former baby prostitute \"Angel\" from Sun...   11/01/1985  \n",
       "39537  A man seeks revenge after a biker gang murders...   01/01/1981  \n",
       "39538  Tanya is a female model who lives with her boy...   05/12/1980  \n",
       "39539  The story of a pair of Australian pilots worki...   04/02/1981  \n",
       "39541  While on a fishing trip, Shao Lung's father is...   01/01/1979  \n",
       "\n",
       "[36564 rows x 9 columns]"
      ]
     },
     "execution_count": 13,
     "metadata": {},
     "output_type": "execute_result"
    }
   ],
   "source": [
    "movies"
   ]
  },
  {
   "cell_type": "code",
   "execution_count": 14,
   "metadata": {
    "executionInfo": {
     "elapsed": 407,
     "status": "ok",
     "timestamp": 1732716429232,
     "user": {
      "displayName": "Yiskaa",
      "userId": "Hidden"
     },
     "user_tz": -330
    },
    "id": "7kzThyXh7QWd"
   },
   "outputs": [],
   "source": [
    "movies = movies[[\"imdb_id_formatted\",\"title\",\"overview\",\"genres\",\"original_language\",\"posters\",\"release_date\"]]"
   ]
  },
  {
   "cell_type": "code",
   "execution_count": 15,
   "metadata": {
    "colab": {
     "base_uri": "https://localhost:8080/",
     "height": 98
    },
    "executionInfo": {
     "elapsed": 513,
     "status": "ok",
     "timestamp": 1732716431213,
     "user": {
      "displayName": "Yiskaa",
      "userId": "Hidden"
     },
     "user_tz": -330
    },
    "id": "B0oo3lAA7QWd",
    "outputId": "5486d9b2-9123-456f-f477-0d3cdd4dbcdf"
   },
   "outputs": [
    {
     "data": {
      "text/html": [
       "<div>\n",
       "<style scoped>\n",
       "    .dataframe tbody tr th:only-of-type {\n",
       "        vertical-align: middle;\n",
       "    }\n",
       "\n",
       "    .dataframe tbody tr th {\n",
       "        vertical-align: top;\n",
       "    }\n",
       "\n",
       "    .dataframe thead th {\n",
       "        text-align: right;\n",
       "    }\n",
       "</style>\n",
       "<table border=\"1\" class=\"dataframe\">\n",
       "  <thead>\n",
       "    <tr style=\"text-align: right;\">\n",
       "      <th></th>\n",
       "      <th>imdb_id_formatted</th>\n",
       "      <th>title</th>\n",
       "      <th>overview</th>\n",
       "      <th>genres</th>\n",
       "      <th>original_language</th>\n",
       "      <th>posters</th>\n",
       "      <th>release_date</th>\n",
       "    </tr>\n",
       "  </thead>\n",
       "  <tbody>\n",
       "    <tr>\n",
       "      <th>0</th>\n",
       "      <td>tt0114709</td>\n",
       "      <td>Toy Story</td>\n",
       "      <td>Led by Woody, Andy's toys live happily in his ...</td>\n",
       "      <td>Animation|Comedy|Family</td>\n",
       "      <td>en</td>\n",
       "      <td>https://images-na.ssl-images-amazon.com/images...</td>\n",
       "      <td>30/10/1995</td>\n",
       "    </tr>\n",
       "  </tbody>\n",
       "</table>\n",
       "</div>"
      ],
      "text/plain": [
       "  imdb_id_formatted      title  \\\n",
       "0         tt0114709  Toy Story   \n",
       "\n",
       "                                            overview                   genres  \\\n",
       "0  Led by Woody, Andy's toys live happily in his ...  Animation|Comedy|Family   \n",
       "\n",
       "  original_language                                            posters  \\\n",
       "0                en  https://images-na.ssl-images-amazon.com/images...   \n",
       "\n",
       "  release_date  \n",
       "0   30/10/1995  "
      ]
     },
     "execution_count": 15,
     "metadata": {},
     "output_type": "execute_result"
    }
   ],
   "source": [
    "movies.head(1)"
   ]
  },
  {
   "cell_type": "code",
   "execution_count": 16,
   "metadata": {
    "executionInfo": {
     "elapsed": 408,
     "status": "ok",
     "timestamp": 1732716435329,
     "user": {
      "displayName": "Yiskaa",
      "userId": "Hidden"
     },
     "user_tz": -330
    },
    "id": "_-6_eexm7QWe"
   },
   "outputs": [],
   "source": [
    "movies = movies.rename(columns={movies.columns[0]:\"imdb_id\", movies.columns[4]:\"language\", movies.columns[5]:\"poster_links\"})"
   ]
  },
  {
   "cell_type": "code",
   "execution_count": 17,
   "metadata": {
    "colab": {
     "base_uri": "https://localhost:8080/",
     "height": 81
    },
    "executionInfo": {
     "elapsed": 447,
     "status": "ok",
     "timestamp": 1732716439439,
     "user": {
      "displayName": "Yiskaa",
      "userId": "Hidden"
     },
     "user_tz": -330
    },
    "id": "OQa6S7IK7QWe",
    "outputId": "45361083-c2d5-41ba-f028-a14664ba172f"
   },
   "outputs": [
    {
     "data": {
      "text/html": [
       "<div>\n",
       "<style scoped>\n",
       "    .dataframe tbody tr th:only-of-type {\n",
       "        vertical-align: middle;\n",
       "    }\n",
       "\n",
       "    .dataframe tbody tr th {\n",
       "        vertical-align: top;\n",
       "    }\n",
       "\n",
       "    .dataframe thead th {\n",
       "        text-align: right;\n",
       "    }\n",
       "</style>\n",
       "<table border=\"1\" class=\"dataframe\">\n",
       "  <thead>\n",
       "    <tr style=\"text-align: right;\">\n",
       "      <th></th>\n",
       "      <th>imdb_id</th>\n",
       "      <th>title</th>\n",
       "      <th>overview</th>\n",
       "      <th>genres</th>\n",
       "      <th>language</th>\n",
       "      <th>poster_links</th>\n",
       "      <th>release_date</th>\n",
       "    </tr>\n",
       "  </thead>\n",
       "  <tbody>\n",
       "    <tr>\n",
       "      <th>0</th>\n",
       "      <td>tt0114709</td>\n",
       "      <td>Toy Story</td>\n",
       "      <td>Led by Woody, Andy's toys live happily in his ...</td>\n",
       "      <td>Animation|Comedy|Family</td>\n",
       "      <td>en</td>\n",
       "      <td>https://images-na.ssl-images-amazon.com/images...</td>\n",
       "      <td>30/10/1995</td>\n",
       "    </tr>\n",
       "  </tbody>\n",
       "</table>\n",
       "</div>"
      ],
      "text/plain": [
       "     imdb_id      title                                           overview  \\\n",
       "0  tt0114709  Toy Story  Led by Woody, Andy's toys live happily in his ...   \n",
       "\n",
       "                    genres language  \\\n",
       "0  Animation|Comedy|Family       en   \n",
       "\n",
       "                                        poster_links release_date  \n",
       "0  https://images-na.ssl-images-amazon.com/images...   30/10/1995  "
      ]
     },
     "execution_count": 17,
     "metadata": {},
     "output_type": "execute_result"
    }
   ],
   "source": [
    "movies.head(1)"
   ]
  },
  {
   "cell_type": "code",
   "execution_count": 18,
   "metadata": {
    "executionInfo": {
     "elapsed": 397,
     "status": "ok",
     "timestamp": 1732716442120,
     "user": {
      "displayName": "Yiskaa",
      "userId": "Hidden"
     },
     "user_tz": -330
    },
    "id": "zdA2yrlI7QWe"
   },
   "outputs": [],
   "source": [
    "movies[\"genres\"] = movies[\"genres\"].apply(lambda x: x.split('|') if isinstance(x, str) else [])\n"
   ]
  },
  {
   "cell_type": "code",
   "execution_count": 19,
   "metadata": {
    "colab": {
     "base_uri": "https://localhost:8080/",
     "height": 458
    },
    "executionInfo": {
     "elapsed": 474,
     "status": "ok",
     "timestamp": 1732716444598,
     "user": {
      "displayName": "Yiskaa",
      "userId": "Hidden"
     },
     "user_tz": -330
    },
    "id": "sJypb7y37QWe",
    "outputId": "3e2d08d3-35a4-4620-865f-276aab58170e"
   },
   "outputs": [
    {
     "data": {
      "text/plain": [
       "0              [Animation, Comedy, Family]\n",
       "1             [Adventure, Fantasy, Family]\n",
       "2                        [Romance, Comedy]\n",
       "3                 [Comedy, Drama, Romance]\n",
       "4                                 [Comedy]\n",
       "                       ...                \n",
       "39536                   [Action, Thriller]\n",
       "39537    [Horror, Action, Thriller, Crime]\n",
       "39538            [Fantasy, Drama, Romance]\n",
       "39539                             [Comedy]\n",
       "39541                             [Action]\n",
       "Name: genres, Length: 36564, dtype: object"
      ]
     },
     "execution_count": 19,
     "metadata": {},
     "output_type": "execute_result"
    }
   ],
   "source": [
    "movies.genres"
   ]
  },
  {
   "cell_type": "code",
   "execution_count": 20,
   "metadata": {
    "colab": {
     "base_uri": "https://localhost:8080/",
     "height": 81
    },
    "executionInfo": {
     "elapsed": 422,
     "status": "ok",
     "timestamp": 1732716448364,
     "user": {
      "displayName": "Yiskaa",
      "userId": "Hidden"
     },
     "user_tz": -330
    },
    "id": "R8mXPASC7QWe",
    "outputId": "a683891a-046f-4226-fa68-13d1cf9d0ded"
   },
   "outputs": [
    {
     "data": {
      "text/html": [
       "<div>\n",
       "<style scoped>\n",
       "    .dataframe tbody tr th:only-of-type {\n",
       "        vertical-align: middle;\n",
       "    }\n",
       "\n",
       "    .dataframe tbody tr th {\n",
       "        vertical-align: top;\n",
       "    }\n",
       "\n",
       "    .dataframe thead th {\n",
       "        text-align: right;\n",
       "    }\n",
       "</style>\n",
       "<table border=\"1\" class=\"dataframe\">\n",
       "  <thead>\n",
       "    <tr style=\"text-align: right;\">\n",
       "      <th></th>\n",
       "      <th>imdb_id</th>\n",
       "      <th>title</th>\n",
       "      <th>overview</th>\n",
       "      <th>genres</th>\n",
       "      <th>language</th>\n",
       "      <th>poster_links</th>\n",
       "      <th>release_date</th>\n",
       "    </tr>\n",
       "  </thead>\n",
       "  <tbody>\n",
       "    <tr>\n",
       "      <th>0</th>\n",
       "      <td>tt0114709</td>\n",
       "      <td>Toy Story</td>\n",
       "      <td>Led by Woody, Andy's toys live happily in his ...</td>\n",
       "      <td>[Animation, Comedy, Family]</td>\n",
       "      <td>en</td>\n",
       "      <td>https://images-na.ssl-images-amazon.com/images...</td>\n",
       "      <td>30/10/1995</td>\n",
       "    </tr>\n",
       "  </tbody>\n",
       "</table>\n",
       "</div>"
      ],
      "text/plain": [
       "     imdb_id      title                                           overview  \\\n",
       "0  tt0114709  Toy Story  Led by Woody, Andy's toys live happily in his ...   \n",
       "\n",
       "                        genres language  \\\n",
       "0  [Animation, Comedy, Family]       en   \n",
       "\n",
       "                                        poster_links release_date  \n",
       "0  https://images-na.ssl-images-amazon.com/images...   30/10/1995  "
      ]
     },
     "execution_count": 20,
     "metadata": {},
     "output_type": "execute_result"
    }
   ],
   "source": [
    "movies.head(1)"
   ]
  },
  {
   "cell_type": "code",
   "execution_count": 21,
   "metadata": {
    "executionInfo": {
     "elapsed": 490,
     "status": "ok",
     "timestamp": 1732716451949,
     "user": {
      "displayName": "Yiskaa",
      "userId": "Hidden"
     },
     "user_tz": -330
    },
    "id": "94upAl5D7QWe"
   },
   "outputs": [],
   "source": [
    "movies[\"overview\"] = movies[\"overview\"].apply(lambda x: x.split() if isinstance(x, str) else [])\n"
   ]
  },
  {
   "cell_type": "code",
   "execution_count": 22,
   "metadata": {
    "colab": {
     "base_uri": "https://localhost:8080/",
     "height": 81
    },
    "executionInfo": {
     "elapsed": 435,
     "status": "ok",
     "timestamp": 1732716454600,
     "user": {
      "displayName": "Yiskaa",
      "userId": "Hidden"
     },
     "user_tz": -330
    },
    "id": "g0JHhGmd7QWe",
    "outputId": "9198ec96-ef37-449c-d169-36a8c815fa1b"
   },
   "outputs": [
    {
     "data": {
      "text/html": [
       "<div>\n",
       "<style scoped>\n",
       "    .dataframe tbody tr th:only-of-type {\n",
       "        vertical-align: middle;\n",
       "    }\n",
       "\n",
       "    .dataframe tbody tr th {\n",
       "        vertical-align: top;\n",
       "    }\n",
       "\n",
       "    .dataframe thead th {\n",
       "        text-align: right;\n",
       "    }\n",
       "</style>\n",
       "<table border=\"1\" class=\"dataframe\">\n",
       "  <thead>\n",
       "    <tr style=\"text-align: right;\">\n",
       "      <th></th>\n",
       "      <th>imdb_id</th>\n",
       "      <th>title</th>\n",
       "      <th>overview</th>\n",
       "      <th>genres</th>\n",
       "      <th>language</th>\n",
       "      <th>poster_links</th>\n",
       "      <th>release_date</th>\n",
       "    </tr>\n",
       "  </thead>\n",
       "  <tbody>\n",
       "    <tr>\n",
       "      <th>0</th>\n",
       "      <td>tt0114709</td>\n",
       "      <td>Toy Story</td>\n",
       "      <td>[Led, by, Woody,, Andy's, toys, live, happily,...</td>\n",
       "      <td>[Animation, Comedy, Family]</td>\n",
       "      <td>en</td>\n",
       "      <td>https://images-na.ssl-images-amazon.com/images...</td>\n",
       "      <td>30/10/1995</td>\n",
       "    </tr>\n",
       "  </tbody>\n",
       "</table>\n",
       "</div>"
      ],
      "text/plain": [
       "     imdb_id      title                                           overview  \\\n",
       "0  tt0114709  Toy Story  [Led, by, Woody,, Andy's, toys, live, happily,...   \n",
       "\n",
       "                        genres language  \\\n",
       "0  [Animation, Comedy, Family]       en   \n",
       "\n",
       "                                        poster_links release_date  \n",
       "0  https://images-na.ssl-images-amazon.com/images...   30/10/1995  "
      ]
     },
     "execution_count": 22,
     "metadata": {},
     "output_type": "execute_result"
    }
   ],
   "source": [
    "movies.head(1)"
   ]
  },
  {
   "cell_type": "code",
   "execution_count": 23,
   "metadata": {},
   "outputs": [
    {
     "data": {
      "text/html": [
       "<div>\n",
       "<style scoped>\n",
       "    .dataframe tbody tr th:only-of-type {\n",
       "        vertical-align: middle;\n",
       "    }\n",
       "\n",
       "    .dataframe tbody tr th {\n",
       "        vertical-align: top;\n",
       "    }\n",
       "\n",
       "    .dataframe thead th {\n",
       "        text-align: right;\n",
       "    }\n",
       "</style>\n",
       "<table border=\"1\" class=\"dataframe\">\n",
       "  <thead>\n",
       "    <tr style=\"text-align: right;\">\n",
       "      <th></th>\n",
       "      <th>imdb_id</th>\n",
       "      <th>title</th>\n",
       "      <th>overview</th>\n",
       "      <th>genres</th>\n",
       "      <th>language</th>\n",
       "      <th>poster_links</th>\n",
       "      <th>release_date</th>\n",
       "    </tr>\n",
       "  </thead>\n",
       "  <tbody>\n",
       "    <tr>\n",
       "      <th>0</th>\n",
       "      <td>tt0114709</td>\n",
       "      <td>Toy Story</td>\n",
       "      <td>[Led, by, Woody,, Andy's, toys, live, happily,...</td>\n",
       "      <td>[Animation, Comedy, Family]</td>\n",
       "      <td>en</td>\n",
       "      <td>https://images-na.ssl-images-amazon.com/images...</td>\n",
       "      <td>30/10/1995</td>\n",
       "    </tr>\n",
       "    <tr>\n",
       "      <th>1</th>\n",
       "      <td>tt0113497</td>\n",
       "      <td>Jumanji</td>\n",
       "      <td>[When, siblings, Judy, and, Peter, discover, a...</td>\n",
       "      <td>[Adventure, Fantasy, Family]</td>\n",
       "      <td>en</td>\n",
       "      <td>https://images-na.ssl-images-amazon.com/images...</td>\n",
       "      <td>15/12/1995</td>\n",
       "    </tr>\n",
       "    <tr>\n",
       "      <th>2</th>\n",
       "      <td>tt0113228</td>\n",
       "      <td>Grumpier Old Men</td>\n",
       "      <td>[A, family, wedding, reignites, the, ancient, ...</td>\n",
       "      <td>[Romance, Comedy]</td>\n",
       "      <td>en</td>\n",
       "      <td>https://images-na.ssl-images-amazon.com/images...</td>\n",
       "      <td>22/12/1995</td>\n",
       "    </tr>\n",
       "    <tr>\n",
       "      <th>3</th>\n",
       "      <td>tt0114885</td>\n",
       "      <td>Waiting to Exhale</td>\n",
       "      <td>[Cheated, on,, mistreated, and, stepped, on,, ...</td>\n",
       "      <td>[Comedy, Drama, Romance]</td>\n",
       "      <td>en</td>\n",
       "      <td>https://images-na.ssl-images-amazon.com/images...</td>\n",
       "      <td>22/12/1995</td>\n",
       "    </tr>\n",
       "    <tr>\n",
       "      <th>4</th>\n",
       "      <td>tt0113041</td>\n",
       "      <td>Father of the Bride Part II</td>\n",
       "      <td>[Just, when, George, Banks, has, recovered, fr...</td>\n",
       "      <td>[Comedy]</td>\n",
       "      <td>en</td>\n",
       "      <td>https://images-na.ssl-images-amazon.com/images...</td>\n",
       "      <td>10/02/1995</td>\n",
       "    </tr>\n",
       "    <tr>\n",
       "      <th>...</th>\n",
       "      <td>...</td>\n",
       "      <td>...</td>\n",
       "      <td>...</td>\n",
       "      <td>...</td>\n",
       "      <td>...</td>\n",
       "      <td>...</td>\n",
       "      <td>...</td>\n",
       "    </tr>\n",
       "    <tr>\n",
       "      <th>39536</th>\n",
       "      <td>tt0088757</td>\n",
       "      <td>Avenging Angel</td>\n",
       "      <td>[Molly,, former, baby, prostitute, \"Angel\", fr...</td>\n",
       "      <td>[Action, Thriller]</td>\n",
       "      <td>en</td>\n",
       "      <td>https://images-na.ssl-images-amazon.com/images...</td>\n",
       "      <td>11/01/1985</td>\n",
       "    </tr>\n",
       "    <tr>\n",
       "      <th>39537</th>\n",
       "      <td>tt0083291</td>\n",
       "      <td>Mad Foxes</td>\n",
       "      <td>[A, man, seeks, revenge, after, a, biker, gang...</td>\n",
       "      <td>[Horror, Action, Thriller, Crime]</td>\n",
       "      <td>es</td>\n",
       "      <td>https://images-na.ssl-images-amazon.com/images...</td>\n",
       "      <td>01/01/1981</td>\n",
       "    </tr>\n",
       "    <tr>\n",
       "      <th>39538</th>\n",
       "      <td>tt0083168</td>\n",
       "      <td>Tanya's Island</td>\n",
       "      <td>[Tanya, is, a, female, model, who, lives, with...</td>\n",
       "      <td>[Fantasy, Drama, Romance]</td>\n",
       "      <td>en</td>\n",
       "      <td>https://images-na.ssl-images-amazon.com/images...</td>\n",
       "      <td>05/12/1980</td>\n",
       "    </tr>\n",
       "    <tr>\n",
       "      <th>39539</th>\n",
       "      <td>tt0082875</td>\n",
       "      <td>Pacific Banana</td>\n",
       "      <td>[The, story, of, a, pair, of, Australian, pilo...</td>\n",
       "      <td>[Comedy]</td>\n",
       "      <td>en</td>\n",
       "      <td>https://images-na.ssl-images-amazon.com/images...</td>\n",
       "      <td>04/02/1981</td>\n",
       "    </tr>\n",
       "    <tr>\n",
       "      <th>39541</th>\n",
       "      <td>tt0079142</td>\n",
       "      <td>The Fearless Young Boxer</td>\n",
       "      <td>[While, on, a, fishing, trip,, Shao, Lung's, f...</td>\n",
       "      <td>[Action]</td>\n",
       "      <td>en</td>\n",
       "      <td>https://images-na.ssl-images-amazon.com/images...</td>\n",
       "      <td>01/01/1979</td>\n",
       "    </tr>\n",
       "  </tbody>\n",
       "</table>\n",
       "<p>36564 rows × 7 columns</p>\n",
       "</div>"
      ],
      "text/plain": [
       "         imdb_id                        title  \\\n",
       "0      tt0114709                    Toy Story   \n",
       "1      tt0113497                      Jumanji   \n",
       "2      tt0113228             Grumpier Old Men   \n",
       "3      tt0114885            Waiting to Exhale   \n",
       "4      tt0113041  Father of the Bride Part II   \n",
       "...          ...                          ...   \n",
       "39536  tt0088757               Avenging Angel   \n",
       "39537  tt0083291                    Mad Foxes   \n",
       "39538  tt0083168               Tanya's Island   \n",
       "39539  tt0082875               Pacific Banana   \n",
       "39541  tt0079142     The Fearless Young Boxer   \n",
       "\n",
       "                                                overview  \\\n",
       "0      [Led, by, Woody,, Andy's, toys, live, happily,...   \n",
       "1      [When, siblings, Judy, and, Peter, discover, a...   \n",
       "2      [A, family, wedding, reignites, the, ancient, ...   \n",
       "3      [Cheated, on,, mistreated, and, stepped, on,, ...   \n",
       "4      [Just, when, George, Banks, has, recovered, fr...   \n",
       "...                                                  ...   \n",
       "39536  [Molly,, former, baby, prostitute, \"Angel\", fr...   \n",
       "39537  [A, man, seeks, revenge, after, a, biker, gang...   \n",
       "39538  [Tanya, is, a, female, model, who, lives, with...   \n",
       "39539  [The, story, of, a, pair, of, Australian, pilo...   \n",
       "39541  [While, on, a, fishing, trip,, Shao, Lung's, f...   \n",
       "\n",
       "                                  genres language  \\\n",
       "0            [Animation, Comedy, Family]       en   \n",
       "1           [Adventure, Fantasy, Family]       en   \n",
       "2                      [Romance, Comedy]       en   \n",
       "3               [Comedy, Drama, Romance]       en   \n",
       "4                               [Comedy]       en   \n",
       "...                                  ...      ...   \n",
       "39536                 [Action, Thriller]       en   \n",
       "39537  [Horror, Action, Thriller, Crime]       es   \n",
       "39538          [Fantasy, Drama, Romance]       en   \n",
       "39539                           [Comedy]       en   \n",
       "39541                           [Action]       en   \n",
       "\n",
       "                                            poster_links release_date  \n",
       "0      https://images-na.ssl-images-amazon.com/images...   30/10/1995  \n",
       "1      https://images-na.ssl-images-amazon.com/images...   15/12/1995  \n",
       "2      https://images-na.ssl-images-amazon.com/images...   22/12/1995  \n",
       "3      https://images-na.ssl-images-amazon.com/images...   22/12/1995  \n",
       "4      https://images-na.ssl-images-amazon.com/images...   10/02/1995  \n",
       "...                                                  ...          ...  \n",
       "39536  https://images-na.ssl-images-amazon.com/images...   11/01/1985  \n",
       "39537  https://images-na.ssl-images-amazon.com/images...   01/01/1981  \n",
       "39538  https://images-na.ssl-images-amazon.com/images...   05/12/1980  \n",
       "39539  https://images-na.ssl-images-amazon.com/images...   04/02/1981  \n",
       "39541  https://images-na.ssl-images-amazon.com/images...   01/01/1979  \n",
       "\n",
       "[36564 rows x 7 columns]"
      ]
     },
     "execution_count": 23,
     "metadata": {},
     "output_type": "execute_result"
    }
   ],
   "source": [
    "movies"
   ]
  },
  {
   "cell_type": "code",
   "execution_count": 24,
   "metadata": {},
   "outputs": [],
   "source": [
    "movies = movies[movies[\"language\"] == 'en']"
   ]
  },
  {
   "cell_type": "code",
   "execution_count": 25,
   "metadata": {},
   "outputs": [
    {
     "data": {
      "text/html": [
       "<div>\n",
       "<style scoped>\n",
       "    .dataframe tbody tr th:only-of-type {\n",
       "        vertical-align: middle;\n",
       "    }\n",
       "\n",
       "    .dataframe tbody tr th {\n",
       "        vertical-align: top;\n",
       "    }\n",
       "\n",
       "    .dataframe thead th {\n",
       "        text-align: right;\n",
       "    }\n",
       "</style>\n",
       "<table border=\"1\" class=\"dataframe\">\n",
       "  <thead>\n",
       "    <tr style=\"text-align: right;\">\n",
       "      <th></th>\n",
       "      <th>imdb_id</th>\n",
       "      <th>title</th>\n",
       "      <th>overview</th>\n",
       "      <th>genres</th>\n",
       "      <th>language</th>\n",
       "      <th>poster_links</th>\n",
       "      <th>release_date</th>\n",
       "    </tr>\n",
       "  </thead>\n",
       "  <tbody>\n",
       "    <tr>\n",
       "      <th>0</th>\n",
       "      <td>tt0114709</td>\n",
       "      <td>Toy Story</td>\n",
       "      <td>[Led, by, Woody,, Andy's, toys, live, happily,...</td>\n",
       "      <td>[Animation, Comedy, Family]</td>\n",
       "      <td>en</td>\n",
       "      <td>https://images-na.ssl-images-amazon.com/images...</td>\n",
       "      <td>30/10/1995</td>\n",
       "    </tr>\n",
       "    <tr>\n",
       "      <th>1</th>\n",
       "      <td>tt0113497</td>\n",
       "      <td>Jumanji</td>\n",
       "      <td>[When, siblings, Judy, and, Peter, discover, a...</td>\n",
       "      <td>[Adventure, Fantasy, Family]</td>\n",
       "      <td>en</td>\n",
       "      <td>https://images-na.ssl-images-amazon.com/images...</td>\n",
       "      <td>15/12/1995</td>\n",
       "    </tr>\n",
       "    <tr>\n",
       "      <th>2</th>\n",
       "      <td>tt0113228</td>\n",
       "      <td>Grumpier Old Men</td>\n",
       "      <td>[A, family, wedding, reignites, the, ancient, ...</td>\n",
       "      <td>[Romance, Comedy]</td>\n",
       "      <td>en</td>\n",
       "      <td>https://images-na.ssl-images-amazon.com/images...</td>\n",
       "      <td>22/12/1995</td>\n",
       "    </tr>\n",
       "    <tr>\n",
       "      <th>3</th>\n",
       "      <td>tt0114885</td>\n",
       "      <td>Waiting to Exhale</td>\n",
       "      <td>[Cheated, on,, mistreated, and, stepped, on,, ...</td>\n",
       "      <td>[Comedy, Drama, Romance]</td>\n",
       "      <td>en</td>\n",
       "      <td>https://images-na.ssl-images-amazon.com/images...</td>\n",
       "      <td>22/12/1995</td>\n",
       "    </tr>\n",
       "    <tr>\n",
       "      <th>4</th>\n",
       "      <td>tt0113041</td>\n",
       "      <td>Father of the Bride Part II</td>\n",
       "      <td>[Just, when, George, Banks, has, recovered, fr...</td>\n",
       "      <td>[Comedy]</td>\n",
       "      <td>en</td>\n",
       "      <td>https://images-na.ssl-images-amazon.com/images...</td>\n",
       "      <td>10/02/1995</td>\n",
       "    </tr>\n",
       "    <tr>\n",
       "      <th>...</th>\n",
       "      <td>...</td>\n",
       "      <td>...</td>\n",
       "      <td>...</td>\n",
       "      <td>...</td>\n",
       "      <td>...</td>\n",
       "      <td>...</td>\n",
       "      <td>...</td>\n",
       "    </tr>\n",
       "    <tr>\n",
       "      <th>39535</th>\n",
       "      <td>tt0098216</td>\n",
       "      <td>Roller Blade Warriors: Taken by Force</td>\n",
       "      <td>[In, the, future,, a, warrior, nun, on, roller...</td>\n",
       "      <td>[Fantasy, Science Fiction]</td>\n",
       "      <td>en</td>\n",
       "      <td>https://images-na.ssl-images-amazon.com/images...</td>\n",
       "      <td>28/04/1989</td>\n",
       "    </tr>\n",
       "    <tr>\n",
       "      <th>39536</th>\n",
       "      <td>tt0088757</td>\n",
       "      <td>Avenging Angel</td>\n",
       "      <td>[Molly,, former, baby, prostitute, \"Angel\", fr...</td>\n",
       "      <td>[Action, Thriller]</td>\n",
       "      <td>en</td>\n",
       "      <td>https://images-na.ssl-images-amazon.com/images...</td>\n",
       "      <td>11/01/1985</td>\n",
       "    </tr>\n",
       "    <tr>\n",
       "      <th>39538</th>\n",
       "      <td>tt0083168</td>\n",
       "      <td>Tanya's Island</td>\n",
       "      <td>[Tanya, is, a, female, model, who, lives, with...</td>\n",
       "      <td>[Fantasy, Drama, Romance]</td>\n",
       "      <td>en</td>\n",
       "      <td>https://images-na.ssl-images-amazon.com/images...</td>\n",
       "      <td>05/12/1980</td>\n",
       "    </tr>\n",
       "    <tr>\n",
       "      <th>39539</th>\n",
       "      <td>tt0082875</td>\n",
       "      <td>Pacific Banana</td>\n",
       "      <td>[The, story, of, a, pair, of, Australian, pilo...</td>\n",
       "      <td>[Comedy]</td>\n",
       "      <td>en</td>\n",
       "      <td>https://images-na.ssl-images-amazon.com/images...</td>\n",
       "      <td>04/02/1981</td>\n",
       "    </tr>\n",
       "    <tr>\n",
       "      <th>39541</th>\n",
       "      <td>tt0079142</td>\n",
       "      <td>The Fearless Young Boxer</td>\n",
       "      <td>[While, on, a, fishing, trip,, Shao, Lung's, f...</td>\n",
       "      <td>[Action]</td>\n",
       "      <td>en</td>\n",
       "      <td>https://images-na.ssl-images-amazon.com/images...</td>\n",
       "      <td>01/01/1979</td>\n",
       "    </tr>\n",
       "  </tbody>\n",
       "</table>\n",
       "<p>27006 rows × 7 columns</p>\n",
       "</div>"
      ],
      "text/plain": [
       "         imdb_id                                  title  \\\n",
       "0      tt0114709                              Toy Story   \n",
       "1      tt0113497                                Jumanji   \n",
       "2      tt0113228                       Grumpier Old Men   \n",
       "3      tt0114885                      Waiting to Exhale   \n",
       "4      tt0113041            Father of the Bride Part II   \n",
       "...          ...                                    ...   \n",
       "39535  tt0098216  Roller Blade Warriors: Taken by Force   \n",
       "39536  tt0088757                         Avenging Angel   \n",
       "39538  tt0083168                         Tanya's Island   \n",
       "39539  tt0082875                         Pacific Banana   \n",
       "39541  tt0079142               The Fearless Young Boxer   \n",
       "\n",
       "                                                overview  \\\n",
       "0      [Led, by, Woody,, Andy's, toys, live, happily,...   \n",
       "1      [When, siblings, Judy, and, Peter, discover, a...   \n",
       "2      [A, family, wedding, reignites, the, ancient, ...   \n",
       "3      [Cheated, on,, mistreated, and, stepped, on,, ...   \n",
       "4      [Just, when, George, Banks, has, recovered, fr...   \n",
       "...                                                  ...   \n",
       "39535  [In, the, future,, a, warrior, nun, on, roller...   \n",
       "39536  [Molly,, former, baby, prostitute, \"Angel\", fr...   \n",
       "39538  [Tanya, is, a, female, model, who, lives, with...   \n",
       "39539  [The, story, of, a, pair, of, Australian, pilo...   \n",
       "39541  [While, on, a, fishing, trip,, Shao, Lung's, f...   \n",
       "\n",
       "                             genres language  \\\n",
       "0       [Animation, Comedy, Family]       en   \n",
       "1      [Adventure, Fantasy, Family]       en   \n",
       "2                 [Romance, Comedy]       en   \n",
       "3          [Comedy, Drama, Romance]       en   \n",
       "4                          [Comedy]       en   \n",
       "...                             ...      ...   \n",
       "39535    [Fantasy, Science Fiction]       en   \n",
       "39536            [Action, Thriller]       en   \n",
       "39538     [Fantasy, Drama, Romance]       en   \n",
       "39539                      [Comedy]       en   \n",
       "39541                      [Action]       en   \n",
       "\n",
       "                                            poster_links release_date  \n",
       "0      https://images-na.ssl-images-amazon.com/images...   30/10/1995  \n",
       "1      https://images-na.ssl-images-amazon.com/images...   15/12/1995  \n",
       "2      https://images-na.ssl-images-amazon.com/images...   22/12/1995  \n",
       "3      https://images-na.ssl-images-amazon.com/images...   22/12/1995  \n",
       "4      https://images-na.ssl-images-amazon.com/images...   10/02/1995  \n",
       "...                                                  ...          ...  \n",
       "39535  https://images-na.ssl-images-amazon.com/images...   28/04/1989  \n",
       "39536  https://images-na.ssl-images-amazon.com/images...   11/01/1985  \n",
       "39538  https://images-na.ssl-images-amazon.com/images...   05/12/1980  \n",
       "39539  https://images-na.ssl-images-amazon.com/images...   04/02/1981  \n",
       "39541  https://images-na.ssl-images-amazon.com/images...   01/01/1979  \n",
       "\n",
       "[27006 rows x 7 columns]"
      ]
     },
     "execution_count": 25,
     "metadata": {},
     "output_type": "execute_result"
    }
   ],
   "source": [
    "movies"
   ]
  },
  {
   "cell_type": "code",
   "execution_count": 26,
   "metadata": {
    "executionInfo": {
     "elapsed": 459,
     "status": "ok",
     "timestamp": 1732716457431,
     "user": {
      "displayName": "Yiskaa",
      "userId": "Hidden"
     },
     "user_tz": -330
    },
    "id": "ixObbyTl7QWf"
   },
   "outputs": [
    {
     "name": "stderr",
     "output_type": "stream",
     "text": [
      "SettingWithCopyWarning: \n",
      "A value is trying to be set on a copy of a slice from a DataFrame.\n",
      "Try using .loc[row_indexer,col_indexer] = value instead\n",
      "\n",
      "See the caveats in the documentation: https://pandas.pydata.org/pandas-docs/stable/user_guide/indexing.html#returning-a-view-versus-a-copy\n",
      "  movies[\"language\"] = movies[\"language\"].apply(lambda x: x.split() if isinstance(x, str) else [])\n"
     ]
    }
   ],
   "source": [
    "movies[\"language\"] = movies[\"language\"].apply(lambda x: x.split() if isinstance(x, str) else [])\n"
   ]
  },
  {
   "cell_type": "code",
   "execution_count": 27,
   "metadata": {
    "colab": {
     "base_uri": "https://localhost:8080/",
     "height": 293
    },
    "executionInfo": {
     "elapsed": 404,
     "status": "ok",
     "timestamp": 1732716459350,
     "user": {
      "displayName": "Yiskaa",
      "userId": "Hidden"
     },
     "user_tz": -330
    },
    "id": "AolTN-dr7QWf",
    "outputId": "ea1e58bc-999b-4a8c-e687-d96179741983"
   },
   "outputs": [
    {
     "data": {
      "text/html": [
       "<div>\n",
       "<style scoped>\n",
       "    .dataframe tbody tr th:only-of-type {\n",
       "        vertical-align: middle;\n",
       "    }\n",
       "\n",
       "    .dataframe tbody tr th {\n",
       "        vertical-align: top;\n",
       "    }\n",
       "\n",
       "    .dataframe thead th {\n",
       "        text-align: right;\n",
       "    }\n",
       "</style>\n",
       "<table border=\"1\" class=\"dataframe\">\n",
       "  <thead>\n",
       "    <tr style=\"text-align: right;\">\n",
       "      <th></th>\n",
       "      <th>imdb_id</th>\n",
       "      <th>title</th>\n",
       "      <th>overview</th>\n",
       "      <th>genres</th>\n",
       "      <th>language</th>\n",
       "      <th>poster_links</th>\n",
       "      <th>release_date</th>\n",
       "    </tr>\n",
       "  </thead>\n",
       "  <tbody>\n",
       "    <tr>\n",
       "      <th>0</th>\n",
       "      <td>tt0114709</td>\n",
       "      <td>Toy Story</td>\n",
       "      <td>[Led, by, Woody,, Andy's, toys, live, happily,...</td>\n",
       "      <td>[Animation, Comedy, Family]</td>\n",
       "      <td>[en]</td>\n",
       "      <td>https://images-na.ssl-images-amazon.com/images...</td>\n",
       "      <td>30/10/1995</td>\n",
       "    </tr>\n",
       "    <tr>\n",
       "      <th>1</th>\n",
       "      <td>tt0113497</td>\n",
       "      <td>Jumanji</td>\n",
       "      <td>[When, siblings, Judy, and, Peter, discover, a...</td>\n",
       "      <td>[Adventure, Fantasy, Family]</td>\n",
       "      <td>[en]</td>\n",
       "      <td>https://images-na.ssl-images-amazon.com/images...</td>\n",
       "      <td>15/12/1995</td>\n",
       "    </tr>\n",
       "    <tr>\n",
       "      <th>2</th>\n",
       "      <td>tt0113228</td>\n",
       "      <td>Grumpier Old Men</td>\n",
       "      <td>[A, family, wedding, reignites, the, ancient, ...</td>\n",
       "      <td>[Romance, Comedy]</td>\n",
       "      <td>[en]</td>\n",
       "      <td>https://images-na.ssl-images-amazon.com/images...</td>\n",
       "      <td>22/12/1995</td>\n",
       "    </tr>\n",
       "    <tr>\n",
       "      <th>3</th>\n",
       "      <td>tt0114885</td>\n",
       "      <td>Waiting to Exhale</td>\n",
       "      <td>[Cheated, on,, mistreated, and, stepped, on,, ...</td>\n",
       "      <td>[Comedy, Drama, Romance]</td>\n",
       "      <td>[en]</td>\n",
       "      <td>https://images-na.ssl-images-amazon.com/images...</td>\n",
       "      <td>22/12/1995</td>\n",
       "    </tr>\n",
       "    <tr>\n",
       "      <th>4</th>\n",
       "      <td>tt0113041</td>\n",
       "      <td>Father of the Bride Part II</td>\n",
       "      <td>[Just, when, George, Banks, has, recovered, fr...</td>\n",
       "      <td>[Comedy]</td>\n",
       "      <td>[en]</td>\n",
       "      <td>https://images-na.ssl-images-amazon.com/images...</td>\n",
       "      <td>10/02/1995</td>\n",
       "    </tr>\n",
       "  </tbody>\n",
       "</table>\n",
       "</div>"
      ],
      "text/plain": [
       "     imdb_id                        title  \\\n",
       "0  tt0114709                    Toy Story   \n",
       "1  tt0113497                      Jumanji   \n",
       "2  tt0113228             Grumpier Old Men   \n",
       "3  tt0114885            Waiting to Exhale   \n",
       "4  tt0113041  Father of the Bride Part II   \n",
       "\n",
       "                                            overview  \\\n",
       "0  [Led, by, Woody,, Andy's, toys, live, happily,...   \n",
       "1  [When, siblings, Judy, and, Peter, discover, a...   \n",
       "2  [A, family, wedding, reignites, the, ancient, ...   \n",
       "3  [Cheated, on,, mistreated, and, stepped, on,, ...   \n",
       "4  [Just, when, George, Banks, has, recovered, fr...   \n",
       "\n",
       "                         genres language  \\\n",
       "0   [Animation, Comedy, Family]     [en]   \n",
       "1  [Adventure, Fantasy, Family]     [en]   \n",
       "2             [Romance, Comedy]     [en]   \n",
       "3      [Comedy, Drama, Romance]     [en]   \n",
       "4                      [Comedy]     [en]   \n",
       "\n",
       "                                        poster_links release_date  \n",
       "0  https://images-na.ssl-images-amazon.com/images...   30/10/1995  \n",
       "1  https://images-na.ssl-images-amazon.com/images...   15/12/1995  \n",
       "2  https://images-na.ssl-images-amazon.com/images...   22/12/1995  \n",
       "3  https://images-na.ssl-images-amazon.com/images...   22/12/1995  \n",
       "4  https://images-na.ssl-images-amazon.com/images...   10/02/1995  "
      ]
     },
     "execution_count": 27,
     "metadata": {},
     "output_type": "execute_result"
    }
   ],
   "source": [
    "movies.head()"
   ]
  },
  {
   "cell_type": "code",
   "execution_count": 28,
   "metadata": {},
   "outputs": [
    {
     "name": "stderr",
     "output_type": "stream",
     "text": [
      "UserWarning: Parsing dates in %d/%m/%Y format when dayfirst=False (the default) was specified. Pass `dayfirst=True` or specify a format to silence this warning.\n",
      "  movies[\"release_year\"] = pd.to_datetime(movies['release_date'], errors='coerce').dt.year\n",
      "SettingWithCopyWarning: \n",
      "A value is trying to be set on a copy of a slice from a DataFrame.\n",
      "Try using .loc[row_indexer,col_indexer] = value instead\n",
      "\n",
      "See the caveats in the documentation: https://pandas.pydata.org/pandas-docs/stable/user_guide/indexing.html#returning-a-view-versus-a-copy\n",
      "  movies[\"release_year\"] = pd.to_datetime(movies['release_date'], errors='coerce').dt.year\n"
     ]
    }
   ],
   "source": [
    "movies[\"release_year\"] = pd.to_datetime(movies['release_date'], errors='coerce').dt.year"
   ]
  },
  {
   "cell_type": "code",
   "execution_count": 29,
   "metadata": {},
   "outputs": [],
   "source": [
    "movies.loc[:, \"release_year\"] = pd.to_datetime(movies[\"release_date\"], dayfirst=True, errors=\"coerce\").dt.year"
   ]
  },
  {
   "cell_type": "code",
   "execution_count": 30,
   "metadata": {},
   "outputs": [
    {
     "data": {
      "text/html": [
       "<div>\n",
       "<style scoped>\n",
       "    .dataframe tbody tr th:only-of-type {\n",
       "        vertical-align: middle;\n",
       "    }\n",
       "\n",
       "    .dataframe tbody tr th {\n",
       "        vertical-align: top;\n",
       "    }\n",
       "\n",
       "    .dataframe thead th {\n",
       "        text-align: right;\n",
       "    }\n",
       "</style>\n",
       "<table border=\"1\" class=\"dataframe\">\n",
       "  <thead>\n",
       "    <tr style=\"text-align: right;\">\n",
       "      <th></th>\n",
       "      <th>imdb_id</th>\n",
       "      <th>title</th>\n",
       "      <th>overview</th>\n",
       "      <th>genres</th>\n",
       "      <th>language</th>\n",
       "      <th>poster_links</th>\n",
       "      <th>release_date</th>\n",
       "      <th>release_year</th>\n",
       "    </tr>\n",
       "  </thead>\n",
       "  <tbody>\n",
       "    <tr>\n",
       "      <th>0</th>\n",
       "      <td>tt0114709</td>\n",
       "      <td>Toy Story</td>\n",
       "      <td>[Led, by, Woody,, Andy's, toys, live, happily,...</td>\n",
       "      <td>[Animation, Comedy, Family]</td>\n",
       "      <td>[en]</td>\n",
       "      <td>https://images-na.ssl-images-amazon.com/images...</td>\n",
       "      <td>30/10/1995</td>\n",
       "      <td>1995.0</td>\n",
       "    </tr>\n",
       "    <tr>\n",
       "      <th>1</th>\n",
       "      <td>tt0113497</td>\n",
       "      <td>Jumanji</td>\n",
       "      <td>[When, siblings, Judy, and, Peter, discover, a...</td>\n",
       "      <td>[Adventure, Fantasy, Family]</td>\n",
       "      <td>[en]</td>\n",
       "      <td>https://images-na.ssl-images-amazon.com/images...</td>\n",
       "      <td>15/12/1995</td>\n",
       "      <td>1995.0</td>\n",
       "    </tr>\n",
       "    <tr>\n",
       "      <th>2</th>\n",
       "      <td>tt0113228</td>\n",
       "      <td>Grumpier Old Men</td>\n",
       "      <td>[A, family, wedding, reignites, the, ancient, ...</td>\n",
       "      <td>[Romance, Comedy]</td>\n",
       "      <td>[en]</td>\n",
       "      <td>https://images-na.ssl-images-amazon.com/images...</td>\n",
       "      <td>22/12/1995</td>\n",
       "      <td>1995.0</td>\n",
       "    </tr>\n",
       "    <tr>\n",
       "      <th>3</th>\n",
       "      <td>tt0114885</td>\n",
       "      <td>Waiting to Exhale</td>\n",
       "      <td>[Cheated, on,, mistreated, and, stepped, on,, ...</td>\n",
       "      <td>[Comedy, Drama, Romance]</td>\n",
       "      <td>[en]</td>\n",
       "      <td>https://images-na.ssl-images-amazon.com/images...</td>\n",
       "      <td>22/12/1995</td>\n",
       "      <td>1995.0</td>\n",
       "    </tr>\n",
       "    <tr>\n",
       "      <th>4</th>\n",
       "      <td>tt0113041</td>\n",
       "      <td>Father of the Bride Part II</td>\n",
       "      <td>[Just, when, George, Banks, has, recovered, fr...</td>\n",
       "      <td>[Comedy]</td>\n",
       "      <td>[en]</td>\n",
       "      <td>https://images-na.ssl-images-amazon.com/images...</td>\n",
       "      <td>10/02/1995</td>\n",
       "      <td>1995.0</td>\n",
       "    </tr>\n",
       "    <tr>\n",
       "      <th>...</th>\n",
       "      <td>...</td>\n",
       "      <td>...</td>\n",
       "      <td>...</td>\n",
       "      <td>...</td>\n",
       "      <td>...</td>\n",
       "      <td>...</td>\n",
       "      <td>...</td>\n",
       "      <td>...</td>\n",
       "    </tr>\n",
       "    <tr>\n",
       "      <th>39535</th>\n",
       "      <td>tt0098216</td>\n",
       "      <td>Roller Blade Warriors: Taken by Force</td>\n",
       "      <td>[In, the, future,, a, warrior, nun, on, roller...</td>\n",
       "      <td>[Fantasy, Science Fiction]</td>\n",
       "      <td>[en]</td>\n",
       "      <td>https://images-na.ssl-images-amazon.com/images...</td>\n",
       "      <td>28/04/1989</td>\n",
       "      <td>1989.0</td>\n",
       "    </tr>\n",
       "    <tr>\n",
       "      <th>39536</th>\n",
       "      <td>tt0088757</td>\n",
       "      <td>Avenging Angel</td>\n",
       "      <td>[Molly,, former, baby, prostitute, \"Angel\", fr...</td>\n",
       "      <td>[Action, Thriller]</td>\n",
       "      <td>[en]</td>\n",
       "      <td>https://images-na.ssl-images-amazon.com/images...</td>\n",
       "      <td>11/01/1985</td>\n",
       "      <td>1985.0</td>\n",
       "    </tr>\n",
       "    <tr>\n",
       "      <th>39538</th>\n",
       "      <td>tt0083168</td>\n",
       "      <td>Tanya's Island</td>\n",
       "      <td>[Tanya, is, a, female, model, who, lives, with...</td>\n",
       "      <td>[Fantasy, Drama, Romance]</td>\n",
       "      <td>[en]</td>\n",
       "      <td>https://images-na.ssl-images-amazon.com/images...</td>\n",
       "      <td>05/12/1980</td>\n",
       "      <td>1980.0</td>\n",
       "    </tr>\n",
       "    <tr>\n",
       "      <th>39539</th>\n",
       "      <td>tt0082875</td>\n",
       "      <td>Pacific Banana</td>\n",
       "      <td>[The, story, of, a, pair, of, Australian, pilo...</td>\n",
       "      <td>[Comedy]</td>\n",
       "      <td>[en]</td>\n",
       "      <td>https://images-na.ssl-images-amazon.com/images...</td>\n",
       "      <td>04/02/1981</td>\n",
       "      <td>1981.0</td>\n",
       "    </tr>\n",
       "    <tr>\n",
       "      <th>39541</th>\n",
       "      <td>tt0079142</td>\n",
       "      <td>The Fearless Young Boxer</td>\n",
       "      <td>[While, on, a, fishing, trip,, Shao, Lung's, f...</td>\n",
       "      <td>[Action]</td>\n",
       "      <td>[en]</td>\n",
       "      <td>https://images-na.ssl-images-amazon.com/images...</td>\n",
       "      <td>01/01/1979</td>\n",
       "      <td>1979.0</td>\n",
       "    </tr>\n",
       "  </tbody>\n",
       "</table>\n",
       "<p>27006 rows × 8 columns</p>\n",
       "</div>"
      ],
      "text/plain": [
       "         imdb_id                                  title  \\\n",
       "0      tt0114709                              Toy Story   \n",
       "1      tt0113497                                Jumanji   \n",
       "2      tt0113228                       Grumpier Old Men   \n",
       "3      tt0114885                      Waiting to Exhale   \n",
       "4      tt0113041            Father of the Bride Part II   \n",
       "...          ...                                    ...   \n",
       "39535  tt0098216  Roller Blade Warriors: Taken by Force   \n",
       "39536  tt0088757                         Avenging Angel   \n",
       "39538  tt0083168                         Tanya's Island   \n",
       "39539  tt0082875                         Pacific Banana   \n",
       "39541  tt0079142               The Fearless Young Boxer   \n",
       "\n",
       "                                                overview  \\\n",
       "0      [Led, by, Woody,, Andy's, toys, live, happily,...   \n",
       "1      [When, siblings, Judy, and, Peter, discover, a...   \n",
       "2      [A, family, wedding, reignites, the, ancient, ...   \n",
       "3      [Cheated, on,, mistreated, and, stepped, on,, ...   \n",
       "4      [Just, when, George, Banks, has, recovered, fr...   \n",
       "...                                                  ...   \n",
       "39535  [In, the, future,, a, warrior, nun, on, roller...   \n",
       "39536  [Molly,, former, baby, prostitute, \"Angel\", fr...   \n",
       "39538  [Tanya, is, a, female, model, who, lives, with...   \n",
       "39539  [The, story, of, a, pair, of, Australian, pilo...   \n",
       "39541  [While, on, a, fishing, trip,, Shao, Lung's, f...   \n",
       "\n",
       "                             genres language  \\\n",
       "0       [Animation, Comedy, Family]     [en]   \n",
       "1      [Adventure, Fantasy, Family]     [en]   \n",
       "2                 [Romance, Comedy]     [en]   \n",
       "3          [Comedy, Drama, Romance]     [en]   \n",
       "4                          [Comedy]     [en]   \n",
       "...                             ...      ...   \n",
       "39535    [Fantasy, Science Fiction]     [en]   \n",
       "39536            [Action, Thriller]     [en]   \n",
       "39538     [Fantasy, Drama, Romance]     [en]   \n",
       "39539                      [Comedy]     [en]   \n",
       "39541                      [Action]     [en]   \n",
       "\n",
       "                                            poster_links release_date  \\\n",
       "0      https://images-na.ssl-images-amazon.com/images...   30/10/1995   \n",
       "1      https://images-na.ssl-images-amazon.com/images...   15/12/1995   \n",
       "2      https://images-na.ssl-images-amazon.com/images...   22/12/1995   \n",
       "3      https://images-na.ssl-images-amazon.com/images...   22/12/1995   \n",
       "4      https://images-na.ssl-images-amazon.com/images...   10/02/1995   \n",
       "...                                                  ...          ...   \n",
       "39535  https://images-na.ssl-images-amazon.com/images...   28/04/1989   \n",
       "39536  https://images-na.ssl-images-amazon.com/images...   11/01/1985   \n",
       "39538  https://images-na.ssl-images-amazon.com/images...   05/12/1980   \n",
       "39539  https://images-na.ssl-images-amazon.com/images...   04/02/1981   \n",
       "39541  https://images-na.ssl-images-amazon.com/images...   01/01/1979   \n",
       "\n",
       "       release_year  \n",
       "0            1995.0  \n",
       "1            1995.0  \n",
       "2            1995.0  \n",
       "3            1995.0  \n",
       "4            1995.0  \n",
       "...             ...  \n",
       "39535        1989.0  \n",
       "39536        1985.0  \n",
       "39538        1980.0  \n",
       "39539        1981.0  \n",
       "39541        1979.0  \n",
       "\n",
       "[27006 rows x 8 columns]"
      ]
     },
     "execution_count": 30,
     "metadata": {},
     "output_type": "execute_result"
    }
   ],
   "source": [
    "movies"
   ]
  },
  {
   "cell_type": "code",
   "execution_count": 31,
   "metadata": {},
   "outputs": [
    {
     "data": {
      "text/plain": [
       "np.int64(7)"
      ]
     },
     "execution_count": 31,
     "metadata": {},
     "output_type": "execute_result"
    }
   ],
   "source": [
    "movies['release_year'].isnull().sum()"
   ]
  },
  {
   "cell_type": "code",
   "execution_count": 32,
   "metadata": {},
   "outputs": [
    {
     "data": {
      "text/plain": [
       "0        1995.0\n",
       "1        1995.0\n",
       "2        1995.0\n",
       "3        1995.0\n",
       "4        1995.0\n",
       "          ...  \n",
       "39535    1989.0\n",
       "39536    1985.0\n",
       "39538    1980.0\n",
       "39539    1981.0\n",
       "39541    1979.0\n",
       "Name: release_year, Length: 26999, dtype: float64"
      ]
     },
     "execution_count": 32,
     "metadata": {},
     "output_type": "execute_result"
    }
   ],
   "source": [
    "movies['release_year'].dropna()"
   ]
  },
  {
   "cell_type": "code",
   "execution_count": 33,
   "metadata": {},
   "outputs": [
    {
     "data": {
      "text/plain": [
       "imdb_id         0\n",
       "title           0\n",
       "overview        0\n",
       "genres          0\n",
       "language        0\n",
       "poster_links    0\n",
       "release_date    0\n",
       "release_year    7\n",
       "dtype: int64"
      ]
     },
     "execution_count": 33,
     "metadata": {},
     "output_type": "execute_result"
    }
   ],
   "source": [
    "movies.isnull().sum()"
   ]
  },
  {
   "cell_type": "code",
   "execution_count": 34,
   "metadata": {},
   "outputs": [],
   "source": [
    "movies = movies.dropna()"
   ]
  },
  {
   "cell_type": "code",
   "execution_count": 35,
   "metadata": {},
   "outputs": [
    {
     "data": {
      "text/plain": [
       "imdb_id         0\n",
       "title           0\n",
       "overview        0\n",
       "genres          0\n",
       "language        0\n",
       "poster_links    0\n",
       "release_date    0\n",
       "release_year    0\n",
       "dtype: int64"
      ]
     },
     "execution_count": 35,
     "metadata": {},
     "output_type": "execute_result"
    }
   ],
   "source": [
    "movies.isnull().sum()"
   ]
  },
  {
   "cell_type": "code",
   "execution_count": 36,
   "metadata": {},
   "outputs": [
    {
     "name": "stderr",
     "output_type": "stream",
     "text": [
      "SettingWithCopyWarning: \n",
      "A value is trying to be set on a copy of a slice from a DataFrame.\n",
      "Try using .loc[row_indexer,col_indexer] = value instead\n",
      "\n",
      "See the caveats in the documentation: https://pandas.pydata.org/pandas-docs/stable/user_guide/indexing.html#returning-a-view-versus-a-copy\n",
      "  movies['release_year'] = movies['release_year'].astype(int)\n"
     ]
    }
   ],
   "source": [
    "movies['release_year'] = movies['release_year'].astype(int)"
   ]
  },
  {
   "cell_type": "code",
   "execution_count": 37,
   "metadata": {},
   "outputs": [
    {
     "data": {
      "text/html": [
       "<div>\n",
       "<style scoped>\n",
       "    .dataframe tbody tr th:only-of-type {\n",
       "        vertical-align: middle;\n",
       "    }\n",
       "\n",
       "    .dataframe tbody tr th {\n",
       "        vertical-align: top;\n",
       "    }\n",
       "\n",
       "    .dataframe thead th {\n",
       "        text-align: right;\n",
       "    }\n",
       "</style>\n",
       "<table border=\"1\" class=\"dataframe\">\n",
       "  <thead>\n",
       "    <tr style=\"text-align: right;\">\n",
       "      <th></th>\n",
       "      <th>imdb_id</th>\n",
       "      <th>title</th>\n",
       "      <th>overview</th>\n",
       "      <th>genres</th>\n",
       "      <th>language</th>\n",
       "      <th>poster_links</th>\n",
       "      <th>release_date</th>\n",
       "      <th>release_year</th>\n",
       "    </tr>\n",
       "  </thead>\n",
       "  <tbody>\n",
       "    <tr>\n",
       "      <th>0</th>\n",
       "      <td>tt0114709</td>\n",
       "      <td>Toy Story</td>\n",
       "      <td>[Led, by, Woody,, Andy's, toys, live, happily,...</td>\n",
       "      <td>[Animation, Comedy, Family]</td>\n",
       "      <td>[en]</td>\n",
       "      <td>https://images-na.ssl-images-amazon.com/images...</td>\n",
       "      <td>30/10/1995</td>\n",
       "      <td>1995</td>\n",
       "    </tr>\n",
       "    <tr>\n",
       "      <th>1</th>\n",
       "      <td>tt0113497</td>\n",
       "      <td>Jumanji</td>\n",
       "      <td>[When, siblings, Judy, and, Peter, discover, a...</td>\n",
       "      <td>[Adventure, Fantasy, Family]</td>\n",
       "      <td>[en]</td>\n",
       "      <td>https://images-na.ssl-images-amazon.com/images...</td>\n",
       "      <td>15/12/1995</td>\n",
       "      <td>1995</td>\n",
       "    </tr>\n",
       "    <tr>\n",
       "      <th>2</th>\n",
       "      <td>tt0113228</td>\n",
       "      <td>Grumpier Old Men</td>\n",
       "      <td>[A, family, wedding, reignites, the, ancient, ...</td>\n",
       "      <td>[Romance, Comedy]</td>\n",
       "      <td>[en]</td>\n",
       "      <td>https://images-na.ssl-images-amazon.com/images...</td>\n",
       "      <td>22/12/1995</td>\n",
       "      <td>1995</td>\n",
       "    </tr>\n",
       "    <tr>\n",
       "      <th>3</th>\n",
       "      <td>tt0114885</td>\n",
       "      <td>Waiting to Exhale</td>\n",
       "      <td>[Cheated, on,, mistreated, and, stepped, on,, ...</td>\n",
       "      <td>[Comedy, Drama, Romance]</td>\n",
       "      <td>[en]</td>\n",
       "      <td>https://images-na.ssl-images-amazon.com/images...</td>\n",
       "      <td>22/12/1995</td>\n",
       "      <td>1995</td>\n",
       "    </tr>\n",
       "    <tr>\n",
       "      <th>4</th>\n",
       "      <td>tt0113041</td>\n",
       "      <td>Father of the Bride Part II</td>\n",
       "      <td>[Just, when, George, Banks, has, recovered, fr...</td>\n",
       "      <td>[Comedy]</td>\n",
       "      <td>[en]</td>\n",
       "      <td>https://images-na.ssl-images-amazon.com/images...</td>\n",
       "      <td>10/02/1995</td>\n",
       "      <td>1995</td>\n",
       "    </tr>\n",
       "    <tr>\n",
       "      <th>...</th>\n",
       "      <td>...</td>\n",
       "      <td>...</td>\n",
       "      <td>...</td>\n",
       "      <td>...</td>\n",
       "      <td>...</td>\n",
       "      <td>...</td>\n",
       "      <td>...</td>\n",
       "      <td>...</td>\n",
       "    </tr>\n",
       "    <tr>\n",
       "      <th>39535</th>\n",
       "      <td>tt0098216</td>\n",
       "      <td>Roller Blade Warriors: Taken by Force</td>\n",
       "      <td>[In, the, future,, a, warrior, nun, on, roller...</td>\n",
       "      <td>[Fantasy, Science Fiction]</td>\n",
       "      <td>[en]</td>\n",
       "      <td>https://images-na.ssl-images-amazon.com/images...</td>\n",
       "      <td>28/04/1989</td>\n",
       "      <td>1989</td>\n",
       "    </tr>\n",
       "    <tr>\n",
       "      <th>39536</th>\n",
       "      <td>tt0088757</td>\n",
       "      <td>Avenging Angel</td>\n",
       "      <td>[Molly,, former, baby, prostitute, \"Angel\", fr...</td>\n",
       "      <td>[Action, Thriller]</td>\n",
       "      <td>[en]</td>\n",
       "      <td>https://images-na.ssl-images-amazon.com/images...</td>\n",
       "      <td>11/01/1985</td>\n",
       "      <td>1985</td>\n",
       "    </tr>\n",
       "    <tr>\n",
       "      <th>39538</th>\n",
       "      <td>tt0083168</td>\n",
       "      <td>Tanya's Island</td>\n",
       "      <td>[Tanya, is, a, female, model, who, lives, with...</td>\n",
       "      <td>[Fantasy, Drama, Romance]</td>\n",
       "      <td>[en]</td>\n",
       "      <td>https://images-na.ssl-images-amazon.com/images...</td>\n",
       "      <td>05/12/1980</td>\n",
       "      <td>1980</td>\n",
       "    </tr>\n",
       "    <tr>\n",
       "      <th>39539</th>\n",
       "      <td>tt0082875</td>\n",
       "      <td>Pacific Banana</td>\n",
       "      <td>[The, story, of, a, pair, of, Australian, pilo...</td>\n",
       "      <td>[Comedy]</td>\n",
       "      <td>[en]</td>\n",
       "      <td>https://images-na.ssl-images-amazon.com/images...</td>\n",
       "      <td>04/02/1981</td>\n",
       "      <td>1981</td>\n",
       "    </tr>\n",
       "    <tr>\n",
       "      <th>39541</th>\n",
       "      <td>tt0079142</td>\n",
       "      <td>The Fearless Young Boxer</td>\n",
       "      <td>[While, on, a, fishing, trip,, Shao, Lung's, f...</td>\n",
       "      <td>[Action]</td>\n",
       "      <td>[en]</td>\n",
       "      <td>https://images-na.ssl-images-amazon.com/images...</td>\n",
       "      <td>01/01/1979</td>\n",
       "      <td>1979</td>\n",
       "    </tr>\n",
       "  </tbody>\n",
       "</table>\n",
       "<p>26999 rows × 8 columns</p>\n",
       "</div>"
      ],
      "text/plain": [
       "         imdb_id                                  title  \\\n",
       "0      tt0114709                              Toy Story   \n",
       "1      tt0113497                                Jumanji   \n",
       "2      tt0113228                       Grumpier Old Men   \n",
       "3      tt0114885                      Waiting to Exhale   \n",
       "4      tt0113041            Father of the Bride Part II   \n",
       "...          ...                                    ...   \n",
       "39535  tt0098216  Roller Blade Warriors: Taken by Force   \n",
       "39536  tt0088757                         Avenging Angel   \n",
       "39538  tt0083168                         Tanya's Island   \n",
       "39539  tt0082875                         Pacific Banana   \n",
       "39541  tt0079142               The Fearless Young Boxer   \n",
       "\n",
       "                                                overview  \\\n",
       "0      [Led, by, Woody,, Andy's, toys, live, happily,...   \n",
       "1      [When, siblings, Judy, and, Peter, discover, a...   \n",
       "2      [A, family, wedding, reignites, the, ancient, ...   \n",
       "3      [Cheated, on,, mistreated, and, stepped, on,, ...   \n",
       "4      [Just, when, George, Banks, has, recovered, fr...   \n",
       "...                                                  ...   \n",
       "39535  [In, the, future,, a, warrior, nun, on, roller...   \n",
       "39536  [Molly,, former, baby, prostitute, \"Angel\", fr...   \n",
       "39538  [Tanya, is, a, female, model, who, lives, with...   \n",
       "39539  [The, story, of, a, pair, of, Australian, pilo...   \n",
       "39541  [While, on, a, fishing, trip,, Shao, Lung's, f...   \n",
       "\n",
       "                             genres language  \\\n",
       "0       [Animation, Comedy, Family]     [en]   \n",
       "1      [Adventure, Fantasy, Family]     [en]   \n",
       "2                 [Romance, Comedy]     [en]   \n",
       "3          [Comedy, Drama, Romance]     [en]   \n",
       "4                          [Comedy]     [en]   \n",
       "...                             ...      ...   \n",
       "39535    [Fantasy, Science Fiction]     [en]   \n",
       "39536            [Action, Thriller]     [en]   \n",
       "39538     [Fantasy, Drama, Romance]     [en]   \n",
       "39539                      [Comedy]     [en]   \n",
       "39541                      [Action]     [en]   \n",
       "\n",
       "                                            poster_links release_date  \\\n",
       "0      https://images-na.ssl-images-amazon.com/images...   30/10/1995   \n",
       "1      https://images-na.ssl-images-amazon.com/images...   15/12/1995   \n",
       "2      https://images-na.ssl-images-amazon.com/images...   22/12/1995   \n",
       "3      https://images-na.ssl-images-amazon.com/images...   22/12/1995   \n",
       "4      https://images-na.ssl-images-amazon.com/images...   10/02/1995   \n",
       "...                                                  ...          ...   \n",
       "39535  https://images-na.ssl-images-amazon.com/images...   28/04/1989   \n",
       "39536  https://images-na.ssl-images-amazon.com/images...   11/01/1985   \n",
       "39538  https://images-na.ssl-images-amazon.com/images...   05/12/1980   \n",
       "39539  https://images-na.ssl-images-amazon.com/images...   04/02/1981   \n",
       "39541  https://images-na.ssl-images-amazon.com/images...   01/01/1979   \n",
       "\n",
       "       release_year  \n",
       "0              1995  \n",
       "1              1995  \n",
       "2              1995  \n",
       "3              1995  \n",
       "4              1995  \n",
       "...             ...  \n",
       "39535          1989  \n",
       "39536          1985  \n",
       "39538          1980  \n",
       "39539          1981  \n",
       "39541          1979  \n",
       "\n",
       "[26999 rows x 8 columns]"
      ]
     },
     "execution_count": 37,
     "metadata": {},
     "output_type": "execute_result"
    }
   ],
   "source": [
    "movies"
   ]
  },
  {
   "cell_type": "code",
   "execution_count": 38,
   "metadata": {},
   "outputs": [],
   "source": [
    "movies = movies.sort_values(by='release_year', ascending=False)"
   ]
  },
  {
   "cell_type": "code",
   "execution_count": 39,
   "metadata": {},
   "outputs": [
    {
     "data": {
      "text/html": [
       "<div>\n",
       "<style scoped>\n",
       "    .dataframe tbody tr th:only-of-type {\n",
       "        vertical-align: middle;\n",
       "    }\n",
       "\n",
       "    .dataframe tbody tr th {\n",
       "        vertical-align: top;\n",
       "    }\n",
       "\n",
       "    .dataframe thead th {\n",
       "        text-align: right;\n",
       "    }\n",
       "</style>\n",
       "<table border=\"1\" class=\"dataframe\">\n",
       "  <thead>\n",
       "    <tr style=\"text-align: right;\">\n",
       "      <th></th>\n",
       "      <th>imdb_id</th>\n",
       "      <th>title</th>\n",
       "      <th>overview</th>\n",
       "      <th>genres</th>\n",
       "      <th>language</th>\n",
       "      <th>poster_links</th>\n",
       "      <th>release_date</th>\n",
       "      <th>release_year</th>\n",
       "    </tr>\n",
       "  </thead>\n",
       "  <tbody>\n",
       "    <tr>\n",
       "      <th>32963</th>\n",
       "      <td>tt2076298</td>\n",
       "      <td>Ip Man 4</td>\n",
       "      <td>[Plot, unknown., The, fourth, installment, of,...</td>\n",
       "      <td>[Action]</td>\n",
       "      <td>[en]</td>\n",
       "      <td>https://images-na.ssl-images-amazon.com/images...</td>\n",
       "      <td>18/10/2018</td>\n",
       "      <td>2018</td>\n",
       "    </tr>\n",
       "    <tr>\n",
       "      <th>37785</th>\n",
       "      <td>tt0069049</td>\n",
       "      <td>The Other Side of the Wind</td>\n",
       "      <td>[Orson, Welles', unfinished, masterpiece,, res...</td>\n",
       "      <td>[Comedy, Drama]</td>\n",
       "      <td>[en]</td>\n",
       "      <td>https://images-na.ssl-images-amazon.com/images...</td>\n",
       "      <td>31/12/2018</td>\n",
       "      <td>2018</td>\n",
       "    </tr>\n",
       "    <tr>\n",
       "      <th>32836</th>\n",
       "      <td>tt3286052</td>\n",
       "      <td>The Blackcoat's Daughter</td>\n",
       "      <td>[In, the, dead, of, winter,, Kat, and, Rose,, ...</td>\n",
       "      <td>[Horror, Thriller]</td>\n",
       "      <td>[en]</td>\n",
       "      <td>https://images-na.ssl-images-amazon.com/images...</td>\n",
       "      <td>31/03/2017</td>\n",
       "      <td>2017</td>\n",
       "    </tr>\n",
       "    <tr>\n",
       "      <th>36612</th>\n",
       "      <td>tt3039472</td>\n",
       "      <td>Return to Return to Nuke 'Em High, aka Volume 2</td>\n",
       "      <td>[Following, the, events, of, Volume, 1,, the, ...</td>\n",
       "      <td>[Comedy, Horror]</td>\n",
       "      <td>[en]</td>\n",
       "      <td>https://images-na.ssl-images-amazon.com/images...</td>\n",
       "      <td>15/07/2017</td>\n",
       "      <td>2017</td>\n",
       "    </tr>\n",
       "    <tr>\n",
       "      <th>39477</th>\n",
       "      <td>tt3447228</td>\n",
       "      <td>Women of '69, Unboxed</td>\n",
       "      <td>[Intimate,, personalized, portrait, of, women,...</td>\n",
       "      <td>[Documentary]</td>\n",
       "      <td>[en]</td>\n",
       "      <td>https://images-na.ssl-images-amazon.com/images...</td>\n",
       "      <td>15/01/2017</td>\n",
       "      <td>2017</td>\n",
       "    </tr>\n",
       "    <tr>\n",
       "      <th>...</th>\n",
       "      <td>...</td>\n",
       "      <td>...</td>\n",
       "      <td>...</td>\n",
       "      <td>...</td>\n",
       "      <td>...</td>\n",
       "      <td>...</td>\n",
       "      <td>...</td>\n",
       "      <td>...</td>\n",
       "    </tr>\n",
       "    <tr>\n",
       "      <th>38364</th>\n",
       "      <td>tt0000420</td>\n",
       "      <td>Alice in Wonderland</td>\n",
       "      <td>[This, is, the, first, movie, version, of, the...</td>\n",
       "      <td>[Fantasy]</td>\n",
       "      <td>[en]</td>\n",
       "      <td>https://images-na.ssl-images-amazon.com/images...</td>\n",
       "      <td>17/10/1903</td>\n",
       "      <td>1903</td>\n",
       "    </tr>\n",
       "    <tr>\n",
       "      <th>11400</th>\n",
       "      <td>tt0000439</td>\n",
       "      <td>The Great Train Robbery</td>\n",
       "      <td>[The, clerk, at, the, train, station, is, assa...</td>\n",
       "      <td>[Action, Adventure, Western]</td>\n",
       "      <td>[en]</td>\n",
       "      <td>https://images-na.ssl-images-amazon.com/images...</td>\n",
       "      <td>01/12/1903</td>\n",
       "      <td>1903</td>\n",
       "    </tr>\n",
       "    <tr>\n",
       "      <th>36543</th>\n",
       "      <td>tt0000399</td>\n",
       "      <td>Jack and the Beanstalk</td>\n",
       "      <td>[Porter's, sequential, continuity, editing, li...</td>\n",
       "      <td>[Adventure, Family, Fantasy]</td>\n",
       "      <td>[en]</td>\n",
       "      <td>https://images-na.ssl-images-amazon.com/images...</td>\n",
       "      <td>20/06/1902</td>\n",
       "      <td>1902</td>\n",
       "    </tr>\n",
       "    <tr>\n",
       "      <th>19503</th>\n",
       "      <td>tt0334960</td>\n",
       "      <td>Boys Diving, Honolulu</td>\n",
       "      <td>[In, the, background, is, a, row, of, three-ma...</td>\n",
       "      <td>[Documentary]</td>\n",
       "      <td>[en]</td>\n",
       "      <td>https://images-na.ssl-images-amazon.com/images...</td>\n",
       "      <td>01/01/1901</td>\n",
       "      <td>1901</td>\n",
       "    </tr>\n",
       "    <tr>\n",
       "      <th>25604</th>\n",
       "      <td>tt0285265</td>\n",
       "      <td>The Kiss</td>\n",
       "      <td>[Nothing, new,, but, an, old, thing, done, ove...</td>\n",
       "      <td>[Romance]</td>\n",
       "      <td>[en]</td>\n",
       "      <td>https://images-na.ssl-images-amazon.com/images...</td>\n",
       "      <td>09/03/1900</td>\n",
       "      <td>1900</td>\n",
       "    </tr>\n",
       "  </tbody>\n",
       "</table>\n",
       "<p>26999 rows × 8 columns</p>\n",
       "</div>"
      ],
      "text/plain": [
       "         imdb_id                                            title  \\\n",
       "32963  tt2076298                                         Ip Man 4   \n",
       "37785  tt0069049                       The Other Side of the Wind   \n",
       "32836  tt3286052                         The Blackcoat's Daughter   \n",
       "36612  tt3039472  Return to Return to Nuke 'Em High, aka Volume 2   \n",
       "39477  tt3447228                            Women of '69, Unboxed   \n",
       "...          ...                                              ...   \n",
       "38364  tt0000420                              Alice in Wonderland   \n",
       "11400  tt0000439                          The Great Train Robbery   \n",
       "36543  tt0000399                           Jack and the Beanstalk   \n",
       "19503  tt0334960                            Boys Diving, Honolulu   \n",
       "25604  tt0285265                                         The Kiss   \n",
       "\n",
       "                                                overview  \\\n",
       "32963  [Plot, unknown., The, fourth, installment, of,...   \n",
       "37785  [Orson, Welles', unfinished, masterpiece,, res...   \n",
       "32836  [In, the, dead, of, winter,, Kat, and, Rose,, ...   \n",
       "36612  [Following, the, events, of, Volume, 1,, the, ...   \n",
       "39477  [Intimate,, personalized, portrait, of, women,...   \n",
       "...                                                  ...   \n",
       "38364  [This, is, the, first, movie, version, of, the...   \n",
       "11400  [The, clerk, at, the, train, station, is, assa...   \n",
       "36543  [Porter's, sequential, continuity, editing, li...   \n",
       "19503  [In, the, background, is, a, row, of, three-ma...   \n",
       "25604  [Nothing, new,, but, an, old, thing, done, ove...   \n",
       "\n",
       "                             genres language  \\\n",
       "32963                      [Action]     [en]   \n",
       "37785               [Comedy, Drama]     [en]   \n",
       "32836            [Horror, Thriller]     [en]   \n",
       "36612              [Comedy, Horror]     [en]   \n",
       "39477                 [Documentary]     [en]   \n",
       "...                             ...      ...   \n",
       "38364                     [Fantasy]     [en]   \n",
       "11400  [Action, Adventure, Western]     [en]   \n",
       "36543  [Adventure, Family, Fantasy]     [en]   \n",
       "19503                 [Documentary]     [en]   \n",
       "25604                     [Romance]     [en]   \n",
       "\n",
       "                                            poster_links release_date  \\\n",
       "32963  https://images-na.ssl-images-amazon.com/images...   18/10/2018   \n",
       "37785  https://images-na.ssl-images-amazon.com/images...   31/12/2018   \n",
       "32836  https://images-na.ssl-images-amazon.com/images...   31/03/2017   \n",
       "36612  https://images-na.ssl-images-amazon.com/images...   15/07/2017   \n",
       "39477  https://images-na.ssl-images-amazon.com/images...   15/01/2017   \n",
       "...                                                  ...          ...   \n",
       "38364  https://images-na.ssl-images-amazon.com/images...   17/10/1903   \n",
       "11400  https://images-na.ssl-images-amazon.com/images...   01/12/1903   \n",
       "36543  https://images-na.ssl-images-amazon.com/images...   20/06/1902   \n",
       "19503  https://images-na.ssl-images-amazon.com/images...   01/01/1901   \n",
       "25604  https://images-na.ssl-images-amazon.com/images...   09/03/1900   \n",
       "\n",
       "       release_year  \n",
       "32963          2018  \n",
       "37785          2018  \n",
       "32836          2017  \n",
       "36612          2017  \n",
       "39477          2017  \n",
       "...             ...  \n",
       "38364          1903  \n",
       "11400          1903  \n",
       "36543          1902  \n",
       "19503          1901  \n",
       "25604          1900  \n",
       "\n",
       "[26999 rows x 8 columns]"
      ]
     },
     "execution_count": 39,
     "metadata": {},
     "output_type": "execute_result"
    }
   ],
   "source": [
    "movies"
   ]
  },
  {
   "cell_type": "code",
   "execution_count": 40,
   "metadata": {},
   "outputs": [],
   "source": [
    "movies = movies[movies[\"release_year\"] >= 1995]"
   ]
  },
  {
   "cell_type": "code",
   "execution_count": 41,
   "metadata": {},
   "outputs": [
    {
     "data": {
      "text/html": [
       "<div>\n",
       "<style scoped>\n",
       "    .dataframe tbody tr th:only-of-type {\n",
       "        vertical-align: middle;\n",
       "    }\n",
       "\n",
       "    .dataframe tbody tr th {\n",
       "        vertical-align: top;\n",
       "    }\n",
       "\n",
       "    .dataframe thead th {\n",
       "        text-align: right;\n",
       "    }\n",
       "</style>\n",
       "<table border=\"1\" class=\"dataframe\">\n",
       "  <thead>\n",
       "    <tr style=\"text-align: right;\">\n",
       "      <th></th>\n",
       "      <th>imdb_id</th>\n",
       "      <th>title</th>\n",
       "      <th>overview</th>\n",
       "      <th>genres</th>\n",
       "      <th>language</th>\n",
       "      <th>poster_links</th>\n",
       "      <th>release_date</th>\n",
       "      <th>release_year</th>\n",
       "    </tr>\n",
       "  </thead>\n",
       "  <tbody>\n",
       "    <tr>\n",
       "      <th>32963</th>\n",
       "      <td>tt2076298</td>\n",
       "      <td>Ip Man 4</td>\n",
       "      <td>[Plot, unknown., The, fourth, installment, of,...</td>\n",
       "      <td>[Action]</td>\n",
       "      <td>[en]</td>\n",
       "      <td>https://images-na.ssl-images-amazon.com/images...</td>\n",
       "      <td>18/10/2018</td>\n",
       "      <td>2018</td>\n",
       "    </tr>\n",
       "    <tr>\n",
       "      <th>37785</th>\n",
       "      <td>tt0069049</td>\n",
       "      <td>The Other Side of the Wind</td>\n",
       "      <td>[Orson, Welles', unfinished, masterpiece,, res...</td>\n",
       "      <td>[Comedy, Drama]</td>\n",
       "      <td>[en]</td>\n",
       "      <td>https://images-na.ssl-images-amazon.com/images...</td>\n",
       "      <td>31/12/2018</td>\n",
       "      <td>2018</td>\n",
       "    </tr>\n",
       "    <tr>\n",
       "      <th>32836</th>\n",
       "      <td>tt3286052</td>\n",
       "      <td>The Blackcoat's Daughter</td>\n",
       "      <td>[In, the, dead, of, winter,, Kat, and, Rose,, ...</td>\n",
       "      <td>[Horror, Thriller]</td>\n",
       "      <td>[en]</td>\n",
       "      <td>https://images-na.ssl-images-amazon.com/images...</td>\n",
       "      <td>31/03/2017</td>\n",
       "      <td>2017</td>\n",
       "    </tr>\n",
       "    <tr>\n",
       "      <th>36612</th>\n",
       "      <td>tt3039472</td>\n",
       "      <td>Return to Return to Nuke 'Em High, aka Volume 2</td>\n",
       "      <td>[Following, the, events, of, Volume, 1,, the, ...</td>\n",
       "      <td>[Comedy, Horror]</td>\n",
       "      <td>[en]</td>\n",
       "      <td>https://images-na.ssl-images-amazon.com/images...</td>\n",
       "      <td>15/07/2017</td>\n",
       "      <td>2017</td>\n",
       "    </tr>\n",
       "    <tr>\n",
       "      <th>39477</th>\n",
       "      <td>tt3447228</td>\n",
       "      <td>Women of '69, Unboxed</td>\n",
       "      <td>[Intimate,, personalized, portrait, of, women,...</td>\n",
       "      <td>[Documentary]</td>\n",
       "      <td>[en]</td>\n",
       "      <td>https://images-na.ssl-images-amazon.com/images...</td>\n",
       "      <td>15/01/2017</td>\n",
       "      <td>2017</td>\n",
       "    </tr>\n",
       "    <tr>\n",
       "      <th>...</th>\n",
       "      <td>...</td>\n",
       "      <td>...</td>\n",
       "      <td>...</td>\n",
       "      <td>...</td>\n",
       "      <td>...</td>\n",
       "      <td>...</td>\n",
       "      <td>...</td>\n",
       "      <td>...</td>\n",
       "    </tr>\n",
       "    <tr>\n",
       "      <th>56</th>\n",
       "      <td>tt0113321</td>\n",
       "      <td>Home for the Holidays</td>\n",
       "      <td>[After, losing, her, job,, making, out, with, ...</td>\n",
       "      <td>[Comedy, Drama, Romance]</td>\n",
       "      <td>[en]</td>\n",
       "      <td>https://images-na.ssl-images-amazon.com/images...</td>\n",
       "      <td>02/11/1995</td>\n",
       "      <td>1995</td>\n",
       "    </tr>\n",
       "    <tr>\n",
       "      <th>54</th>\n",
       "      <td>tt0113158</td>\n",
       "      <td>Georgia</td>\n",
       "      <td>[Sadie, looks, up, to, her, older, sister, Geo...</td>\n",
       "      <td>[Drama]</td>\n",
       "      <td>[en]</td>\n",
       "      <td>https://images-na.ssl-images-amazon.com/images...</td>\n",
       "      <td>19/05/1995</td>\n",
       "      <td>1995</td>\n",
       "    </tr>\n",
       "    <tr>\n",
       "      <th>38</th>\n",
       "      <td>tt0112697</td>\n",
       "      <td>Clueless</td>\n",
       "      <td>[Shallow,, rich, and, socially, successful, Ch...</td>\n",
       "      <td>[Comedy, Drama, Romance]</td>\n",
       "      <td>[en]</td>\n",
       "      <td>https://images-na.ssl-images-amazon.com/images...</td>\n",
       "      <td>19/07/1995</td>\n",
       "      <td>1995</td>\n",
       "    </tr>\n",
       "    <tr>\n",
       "      <th>37</th>\n",
       "      <td>tt0113442</td>\n",
       "      <td>It Takes Two</td>\n",
       "      <td>[Identical, 9-year-olds, from, very, different...</td>\n",
       "      <td>[Comedy, Family, Romance]</td>\n",
       "      <td>[en]</td>\n",
       "      <td>https://images-na.ssl-images-amazon.com/images...</td>\n",
       "      <td>17/11/1995</td>\n",
       "      <td>1995</td>\n",
       "    </tr>\n",
       "    <tr>\n",
       "      <th>36</th>\n",
       "      <td>tt0112286</td>\n",
       "      <td>Across the Sea of Time</td>\n",
       "      <td>[A, young, Russian, boy,, Thomas, Minton,, tra...</td>\n",
       "      <td>[Adventure, History, Drama, Family]</td>\n",
       "      <td>[en]</td>\n",
       "      <td>https://images-na.ssl-images-amazon.com/images...</td>\n",
       "      <td>20/10/1995</td>\n",
       "      <td>1995</td>\n",
       "    </tr>\n",
       "  </tbody>\n",
       "</table>\n",
       "<p>15936 rows × 8 columns</p>\n",
       "</div>"
      ],
      "text/plain": [
       "         imdb_id                                            title  \\\n",
       "32963  tt2076298                                         Ip Man 4   \n",
       "37785  tt0069049                       The Other Side of the Wind   \n",
       "32836  tt3286052                         The Blackcoat's Daughter   \n",
       "36612  tt3039472  Return to Return to Nuke 'Em High, aka Volume 2   \n",
       "39477  tt3447228                            Women of '69, Unboxed   \n",
       "...          ...                                              ...   \n",
       "56     tt0113321                            Home for the Holidays   \n",
       "54     tt0113158                                          Georgia   \n",
       "38     tt0112697                                         Clueless   \n",
       "37     tt0113442                                     It Takes Two   \n",
       "36     tt0112286                           Across the Sea of Time   \n",
       "\n",
       "                                                overview  \\\n",
       "32963  [Plot, unknown., The, fourth, installment, of,...   \n",
       "37785  [Orson, Welles', unfinished, masterpiece,, res...   \n",
       "32836  [In, the, dead, of, winter,, Kat, and, Rose,, ...   \n",
       "36612  [Following, the, events, of, Volume, 1,, the, ...   \n",
       "39477  [Intimate,, personalized, portrait, of, women,...   \n",
       "...                                                  ...   \n",
       "56     [After, losing, her, job,, making, out, with, ...   \n",
       "54     [Sadie, looks, up, to, her, older, sister, Geo...   \n",
       "38     [Shallow,, rich, and, socially, successful, Ch...   \n",
       "37     [Identical, 9-year-olds, from, very, different...   \n",
       "36     [A, young, Russian, boy,, Thomas, Minton,, tra...   \n",
       "\n",
       "                                    genres language  \\\n",
       "32963                             [Action]     [en]   \n",
       "37785                      [Comedy, Drama]     [en]   \n",
       "32836                   [Horror, Thriller]     [en]   \n",
       "36612                     [Comedy, Horror]     [en]   \n",
       "39477                        [Documentary]     [en]   \n",
       "...                                    ...      ...   \n",
       "56                [Comedy, Drama, Romance]     [en]   \n",
       "54                                 [Drama]     [en]   \n",
       "38                [Comedy, Drama, Romance]     [en]   \n",
       "37               [Comedy, Family, Romance]     [en]   \n",
       "36     [Adventure, History, Drama, Family]     [en]   \n",
       "\n",
       "                                            poster_links release_date  \\\n",
       "32963  https://images-na.ssl-images-amazon.com/images...   18/10/2018   \n",
       "37785  https://images-na.ssl-images-amazon.com/images...   31/12/2018   \n",
       "32836  https://images-na.ssl-images-amazon.com/images...   31/03/2017   \n",
       "36612  https://images-na.ssl-images-amazon.com/images...   15/07/2017   \n",
       "39477  https://images-na.ssl-images-amazon.com/images...   15/01/2017   \n",
       "...                                                  ...          ...   \n",
       "56     https://images-na.ssl-images-amazon.com/images...   02/11/1995   \n",
       "54     https://images-na.ssl-images-amazon.com/images...   19/05/1995   \n",
       "38     https://images-na.ssl-images-amazon.com/images...   19/07/1995   \n",
       "37     https://images-na.ssl-images-amazon.com/images...   17/11/1995   \n",
       "36     https://images-na.ssl-images-amazon.com/images...   20/10/1995   \n",
       "\n",
       "       release_year  \n",
       "32963          2018  \n",
       "37785          2018  \n",
       "32836          2017  \n",
       "36612          2017  \n",
       "39477          2017  \n",
       "...             ...  \n",
       "56             1995  \n",
       "54             1995  \n",
       "38             1995  \n",
       "37             1995  \n",
       "36             1995  \n",
       "\n",
       "[15936 rows x 8 columns]"
      ]
     },
     "execution_count": 41,
     "metadata": {},
     "output_type": "execute_result"
    }
   ],
   "source": [
    "movies"
   ]
  },
  {
   "cell_type": "code",
   "execution_count": 42,
   "metadata": {},
   "outputs": [
    {
     "name": "stderr",
     "output_type": "stream",
     "text": [
      "SettingWithCopyWarning: \n",
      "A value is trying to be set on a copy of a slice from a DataFrame.\n",
      "Try using .loc[row_indexer,col_indexer] = value instead\n",
      "\n",
      "See the caveats in the documentation: https://pandas.pydata.org/pandas-docs/stable/user_guide/indexing.html#returning-a-view-versus-a-copy\n",
      "  movies['release_year'] = movies['release_year'].astype(str)\n"
     ]
    }
   ],
   "source": [
    "movies['release_year'] = movies['release_year'].astype(str)"
   ]
  },
  {
   "cell_type": "code",
   "execution_count": 43,
   "metadata": {},
   "outputs": [
    {
     "name": "stderr",
     "output_type": "stream",
     "text": [
      "SettingWithCopyWarning: \n",
      "A value is trying to be set on a copy of a slice from a DataFrame.\n",
      "Try using .loc[row_indexer,col_indexer] = value instead\n",
      "\n",
      "See the caveats in the documentation: https://pandas.pydata.org/pandas-docs/stable/user_guide/indexing.html#returning-a-view-versus-a-copy\n",
      "  movies[\"release_year\"] = movies[\"release_year\"].apply(lambda x: x.split() if isinstance(x, str) else [])\n"
     ]
    }
   ],
   "source": [
    "movies[\"release_year\"] = movies[\"release_year\"].apply(lambda x: x.split() if isinstance(x, str) else [])\n"
   ]
  },
  {
   "cell_type": "code",
   "execution_count": 44,
   "metadata": {},
   "outputs": [
    {
     "data": {
      "text/html": [
       "<div>\n",
       "<style scoped>\n",
       "    .dataframe tbody tr th:only-of-type {\n",
       "        vertical-align: middle;\n",
       "    }\n",
       "\n",
       "    .dataframe tbody tr th {\n",
       "        vertical-align: top;\n",
       "    }\n",
       "\n",
       "    .dataframe thead th {\n",
       "        text-align: right;\n",
       "    }\n",
       "</style>\n",
       "<table border=\"1\" class=\"dataframe\">\n",
       "  <thead>\n",
       "    <tr style=\"text-align: right;\">\n",
       "      <th></th>\n",
       "      <th>imdb_id</th>\n",
       "      <th>title</th>\n",
       "      <th>overview</th>\n",
       "      <th>genres</th>\n",
       "      <th>language</th>\n",
       "      <th>poster_links</th>\n",
       "      <th>release_date</th>\n",
       "      <th>release_year</th>\n",
       "    </tr>\n",
       "  </thead>\n",
       "  <tbody>\n",
       "    <tr>\n",
       "      <th>32963</th>\n",
       "      <td>tt2076298</td>\n",
       "      <td>Ip Man 4</td>\n",
       "      <td>[Plot, unknown., The, fourth, installment, of,...</td>\n",
       "      <td>[Action]</td>\n",
       "      <td>[en]</td>\n",
       "      <td>https://images-na.ssl-images-amazon.com/images...</td>\n",
       "      <td>18/10/2018</td>\n",
       "      <td>[2018]</td>\n",
       "    </tr>\n",
       "    <tr>\n",
       "      <th>37785</th>\n",
       "      <td>tt0069049</td>\n",
       "      <td>The Other Side of the Wind</td>\n",
       "      <td>[Orson, Welles', unfinished, masterpiece,, res...</td>\n",
       "      <td>[Comedy, Drama]</td>\n",
       "      <td>[en]</td>\n",
       "      <td>https://images-na.ssl-images-amazon.com/images...</td>\n",
       "      <td>31/12/2018</td>\n",
       "      <td>[2018]</td>\n",
       "    </tr>\n",
       "    <tr>\n",
       "      <th>32836</th>\n",
       "      <td>tt3286052</td>\n",
       "      <td>The Blackcoat's Daughter</td>\n",
       "      <td>[In, the, dead, of, winter,, Kat, and, Rose,, ...</td>\n",
       "      <td>[Horror, Thriller]</td>\n",
       "      <td>[en]</td>\n",
       "      <td>https://images-na.ssl-images-amazon.com/images...</td>\n",
       "      <td>31/03/2017</td>\n",
       "      <td>[2017]</td>\n",
       "    </tr>\n",
       "    <tr>\n",
       "      <th>36612</th>\n",
       "      <td>tt3039472</td>\n",
       "      <td>Return to Return to Nuke 'Em High, aka Volume 2</td>\n",
       "      <td>[Following, the, events, of, Volume, 1,, the, ...</td>\n",
       "      <td>[Comedy, Horror]</td>\n",
       "      <td>[en]</td>\n",
       "      <td>https://images-na.ssl-images-amazon.com/images...</td>\n",
       "      <td>15/07/2017</td>\n",
       "      <td>[2017]</td>\n",
       "    </tr>\n",
       "    <tr>\n",
       "      <th>39477</th>\n",
       "      <td>tt3447228</td>\n",
       "      <td>Women of '69, Unboxed</td>\n",
       "      <td>[Intimate,, personalized, portrait, of, women,...</td>\n",
       "      <td>[Documentary]</td>\n",
       "      <td>[en]</td>\n",
       "      <td>https://images-na.ssl-images-amazon.com/images...</td>\n",
       "      <td>15/01/2017</td>\n",
       "      <td>[2017]</td>\n",
       "    </tr>\n",
       "    <tr>\n",
       "      <th>...</th>\n",
       "      <td>...</td>\n",
       "      <td>...</td>\n",
       "      <td>...</td>\n",
       "      <td>...</td>\n",
       "      <td>...</td>\n",
       "      <td>...</td>\n",
       "      <td>...</td>\n",
       "      <td>...</td>\n",
       "    </tr>\n",
       "    <tr>\n",
       "      <th>56</th>\n",
       "      <td>tt0113321</td>\n",
       "      <td>Home for the Holidays</td>\n",
       "      <td>[After, losing, her, job,, making, out, with, ...</td>\n",
       "      <td>[Comedy, Drama, Romance]</td>\n",
       "      <td>[en]</td>\n",
       "      <td>https://images-na.ssl-images-amazon.com/images...</td>\n",
       "      <td>02/11/1995</td>\n",
       "      <td>[1995]</td>\n",
       "    </tr>\n",
       "    <tr>\n",
       "      <th>54</th>\n",
       "      <td>tt0113158</td>\n",
       "      <td>Georgia</td>\n",
       "      <td>[Sadie, looks, up, to, her, older, sister, Geo...</td>\n",
       "      <td>[Drama]</td>\n",
       "      <td>[en]</td>\n",
       "      <td>https://images-na.ssl-images-amazon.com/images...</td>\n",
       "      <td>19/05/1995</td>\n",
       "      <td>[1995]</td>\n",
       "    </tr>\n",
       "    <tr>\n",
       "      <th>38</th>\n",
       "      <td>tt0112697</td>\n",
       "      <td>Clueless</td>\n",
       "      <td>[Shallow,, rich, and, socially, successful, Ch...</td>\n",
       "      <td>[Comedy, Drama, Romance]</td>\n",
       "      <td>[en]</td>\n",
       "      <td>https://images-na.ssl-images-amazon.com/images...</td>\n",
       "      <td>19/07/1995</td>\n",
       "      <td>[1995]</td>\n",
       "    </tr>\n",
       "    <tr>\n",
       "      <th>37</th>\n",
       "      <td>tt0113442</td>\n",
       "      <td>It Takes Two</td>\n",
       "      <td>[Identical, 9-year-olds, from, very, different...</td>\n",
       "      <td>[Comedy, Family, Romance]</td>\n",
       "      <td>[en]</td>\n",
       "      <td>https://images-na.ssl-images-amazon.com/images...</td>\n",
       "      <td>17/11/1995</td>\n",
       "      <td>[1995]</td>\n",
       "    </tr>\n",
       "    <tr>\n",
       "      <th>36</th>\n",
       "      <td>tt0112286</td>\n",
       "      <td>Across the Sea of Time</td>\n",
       "      <td>[A, young, Russian, boy,, Thomas, Minton,, tra...</td>\n",
       "      <td>[Adventure, History, Drama, Family]</td>\n",
       "      <td>[en]</td>\n",
       "      <td>https://images-na.ssl-images-amazon.com/images...</td>\n",
       "      <td>20/10/1995</td>\n",
       "      <td>[1995]</td>\n",
       "    </tr>\n",
       "  </tbody>\n",
       "</table>\n",
       "<p>15936 rows × 8 columns</p>\n",
       "</div>"
      ],
      "text/plain": [
       "         imdb_id                                            title  \\\n",
       "32963  tt2076298                                         Ip Man 4   \n",
       "37785  tt0069049                       The Other Side of the Wind   \n",
       "32836  tt3286052                         The Blackcoat's Daughter   \n",
       "36612  tt3039472  Return to Return to Nuke 'Em High, aka Volume 2   \n",
       "39477  tt3447228                            Women of '69, Unboxed   \n",
       "...          ...                                              ...   \n",
       "56     tt0113321                            Home for the Holidays   \n",
       "54     tt0113158                                          Georgia   \n",
       "38     tt0112697                                         Clueless   \n",
       "37     tt0113442                                     It Takes Two   \n",
       "36     tt0112286                           Across the Sea of Time   \n",
       "\n",
       "                                                overview  \\\n",
       "32963  [Plot, unknown., The, fourth, installment, of,...   \n",
       "37785  [Orson, Welles', unfinished, masterpiece,, res...   \n",
       "32836  [In, the, dead, of, winter,, Kat, and, Rose,, ...   \n",
       "36612  [Following, the, events, of, Volume, 1,, the, ...   \n",
       "39477  [Intimate,, personalized, portrait, of, women,...   \n",
       "...                                                  ...   \n",
       "56     [After, losing, her, job,, making, out, with, ...   \n",
       "54     [Sadie, looks, up, to, her, older, sister, Geo...   \n",
       "38     [Shallow,, rich, and, socially, successful, Ch...   \n",
       "37     [Identical, 9-year-olds, from, very, different...   \n",
       "36     [A, young, Russian, boy,, Thomas, Minton,, tra...   \n",
       "\n",
       "                                    genres language  \\\n",
       "32963                             [Action]     [en]   \n",
       "37785                      [Comedy, Drama]     [en]   \n",
       "32836                   [Horror, Thriller]     [en]   \n",
       "36612                     [Comedy, Horror]     [en]   \n",
       "39477                        [Documentary]     [en]   \n",
       "...                                    ...      ...   \n",
       "56                [Comedy, Drama, Romance]     [en]   \n",
       "54                                 [Drama]     [en]   \n",
       "38                [Comedy, Drama, Romance]     [en]   \n",
       "37               [Comedy, Family, Romance]     [en]   \n",
       "36     [Adventure, History, Drama, Family]     [en]   \n",
       "\n",
       "                                            poster_links release_date  \\\n",
       "32963  https://images-na.ssl-images-amazon.com/images...   18/10/2018   \n",
       "37785  https://images-na.ssl-images-amazon.com/images...   31/12/2018   \n",
       "32836  https://images-na.ssl-images-amazon.com/images...   31/03/2017   \n",
       "36612  https://images-na.ssl-images-amazon.com/images...   15/07/2017   \n",
       "39477  https://images-na.ssl-images-amazon.com/images...   15/01/2017   \n",
       "...                                                  ...          ...   \n",
       "56     https://images-na.ssl-images-amazon.com/images...   02/11/1995   \n",
       "54     https://images-na.ssl-images-amazon.com/images...   19/05/1995   \n",
       "38     https://images-na.ssl-images-amazon.com/images...   19/07/1995   \n",
       "37     https://images-na.ssl-images-amazon.com/images...   17/11/1995   \n",
       "36     https://images-na.ssl-images-amazon.com/images...   20/10/1995   \n",
       "\n",
       "      release_year  \n",
       "32963       [2018]  \n",
       "37785       [2018]  \n",
       "32836       [2017]  \n",
       "36612       [2017]  \n",
       "39477       [2017]  \n",
       "...            ...  \n",
       "56          [1995]  \n",
       "54          [1995]  \n",
       "38          [1995]  \n",
       "37          [1995]  \n",
       "36          [1995]  \n",
       "\n",
       "[15936 rows x 8 columns]"
      ]
     },
     "execution_count": 44,
     "metadata": {},
     "output_type": "execute_result"
    }
   ],
   "source": [
    "movies"
   ]
  },
  {
   "cell_type": "code",
   "execution_count": 45,
   "metadata": {
    "executionInfo": {
     "elapsed": 394,
     "status": "ok",
     "timestamp": 1732716462773,
     "user": {
      "displayName": "Yiskaa",
      "userId": "Hidden"
     },
     "user_tz": -330
    },
    "id": "qv4Fw8YW7QWf"
   },
   "outputs": [
    {
     "name": "stderr",
     "output_type": "stream",
     "text": [
      "SettingWithCopyWarning: \n",
      "A value is trying to be set on a copy of a slice from a DataFrame.\n",
      "Try using .loc[row_indexer,col_indexer] = value instead\n",
      "\n",
      "See the caveats in the documentation: https://pandas.pydata.org/pandas-docs/stable/user_guide/indexing.html#returning-a-view-versus-a-copy\n",
      "  movies[\"tags\"] = movies[\"overview\"] + movies[\"genres\"] + movies[\"language\"] + movies[\"release_year\"]\n"
     ]
    }
   ],
   "source": [
    "movies[\"tags\"] = movies[\"overview\"] + movies[\"genres\"] + movies[\"language\"] + movies[\"release_year\"]"
   ]
  },
  {
   "cell_type": "code",
   "execution_count": 46,
   "metadata": {
    "colab": {
     "base_uri": "https://localhost:8080/",
     "height": 98
    },
    "executionInfo": {
     "elapsed": 394,
     "status": "ok",
     "timestamp": 1732716464561,
     "user": {
      "displayName": "Yiskaa",
      "userId": "Hidden"
     },
     "user_tz": -330
    },
    "id": "So_3zcU57QWf",
    "outputId": "05fdf10a-50df-4f36-b9c6-0b984dcf48f2"
   },
   "outputs": [
    {
     "data": {
      "text/html": [
       "<div>\n",
       "<style scoped>\n",
       "    .dataframe tbody tr th:only-of-type {\n",
       "        vertical-align: middle;\n",
       "    }\n",
       "\n",
       "    .dataframe tbody tr th {\n",
       "        vertical-align: top;\n",
       "    }\n",
       "\n",
       "    .dataframe thead th {\n",
       "        text-align: right;\n",
       "    }\n",
       "</style>\n",
       "<table border=\"1\" class=\"dataframe\">\n",
       "  <thead>\n",
       "    <tr style=\"text-align: right;\">\n",
       "      <th></th>\n",
       "      <th>imdb_id</th>\n",
       "      <th>title</th>\n",
       "      <th>overview</th>\n",
       "      <th>genres</th>\n",
       "      <th>language</th>\n",
       "      <th>poster_links</th>\n",
       "      <th>release_date</th>\n",
       "      <th>release_year</th>\n",
       "      <th>tags</th>\n",
       "    </tr>\n",
       "  </thead>\n",
       "  <tbody>\n",
       "    <tr>\n",
       "      <th>32963</th>\n",
       "      <td>tt2076298</td>\n",
       "      <td>Ip Man 4</td>\n",
       "      <td>[Plot, unknown., The, fourth, installment, of,...</td>\n",
       "      <td>[Action]</td>\n",
       "      <td>[en]</td>\n",
       "      <td>https://images-na.ssl-images-amazon.com/images...</td>\n",
       "      <td>18/10/2018</td>\n",
       "      <td>[2018]</td>\n",
       "      <td>[Plot, unknown., The, fourth, installment, of,...</td>\n",
       "    </tr>\n",
       "    <tr>\n",
       "      <th>37785</th>\n",
       "      <td>tt0069049</td>\n",
       "      <td>The Other Side of the Wind</td>\n",
       "      <td>[Orson, Welles', unfinished, masterpiece,, res...</td>\n",
       "      <td>[Comedy, Drama]</td>\n",
       "      <td>[en]</td>\n",
       "      <td>https://images-na.ssl-images-amazon.com/images...</td>\n",
       "      <td>31/12/2018</td>\n",
       "      <td>[2018]</td>\n",
       "      <td>[Orson, Welles', unfinished, masterpiece,, res...</td>\n",
       "    </tr>\n",
       "    <tr>\n",
       "      <th>32836</th>\n",
       "      <td>tt3286052</td>\n",
       "      <td>The Blackcoat's Daughter</td>\n",
       "      <td>[In, the, dead, of, winter,, Kat, and, Rose,, ...</td>\n",
       "      <td>[Horror, Thriller]</td>\n",
       "      <td>[en]</td>\n",
       "      <td>https://images-na.ssl-images-amazon.com/images...</td>\n",
       "      <td>31/03/2017</td>\n",
       "      <td>[2017]</td>\n",
       "      <td>[In, the, dead, of, winter,, Kat, and, Rose,, ...</td>\n",
       "    </tr>\n",
       "    <tr>\n",
       "      <th>36612</th>\n",
       "      <td>tt3039472</td>\n",
       "      <td>Return to Return to Nuke 'Em High, aka Volume 2</td>\n",
       "      <td>[Following, the, events, of, Volume, 1,, the, ...</td>\n",
       "      <td>[Comedy, Horror]</td>\n",
       "      <td>[en]</td>\n",
       "      <td>https://images-na.ssl-images-amazon.com/images...</td>\n",
       "      <td>15/07/2017</td>\n",
       "      <td>[2017]</td>\n",
       "      <td>[Following, the, events, of, Volume, 1,, the, ...</td>\n",
       "    </tr>\n",
       "    <tr>\n",
       "      <th>39477</th>\n",
       "      <td>tt3447228</td>\n",
       "      <td>Women of '69, Unboxed</td>\n",
       "      <td>[Intimate,, personalized, portrait, of, women,...</td>\n",
       "      <td>[Documentary]</td>\n",
       "      <td>[en]</td>\n",
       "      <td>https://images-na.ssl-images-amazon.com/images...</td>\n",
       "      <td>15/01/2017</td>\n",
       "      <td>[2017]</td>\n",
       "      <td>[Intimate,, personalized, portrait, of, women,...</td>\n",
       "    </tr>\n",
       "    <tr>\n",
       "      <th>...</th>\n",
       "      <td>...</td>\n",
       "      <td>...</td>\n",
       "      <td>...</td>\n",
       "      <td>...</td>\n",
       "      <td>...</td>\n",
       "      <td>...</td>\n",
       "      <td>...</td>\n",
       "      <td>...</td>\n",
       "      <td>...</td>\n",
       "    </tr>\n",
       "    <tr>\n",
       "      <th>56</th>\n",
       "      <td>tt0113321</td>\n",
       "      <td>Home for the Holidays</td>\n",
       "      <td>[After, losing, her, job,, making, out, with, ...</td>\n",
       "      <td>[Comedy, Drama, Romance]</td>\n",
       "      <td>[en]</td>\n",
       "      <td>https://images-na.ssl-images-amazon.com/images...</td>\n",
       "      <td>02/11/1995</td>\n",
       "      <td>[1995]</td>\n",
       "      <td>[After, losing, her, job,, making, out, with, ...</td>\n",
       "    </tr>\n",
       "    <tr>\n",
       "      <th>54</th>\n",
       "      <td>tt0113158</td>\n",
       "      <td>Georgia</td>\n",
       "      <td>[Sadie, looks, up, to, her, older, sister, Geo...</td>\n",
       "      <td>[Drama]</td>\n",
       "      <td>[en]</td>\n",
       "      <td>https://images-na.ssl-images-amazon.com/images...</td>\n",
       "      <td>19/05/1995</td>\n",
       "      <td>[1995]</td>\n",
       "      <td>[Sadie, looks, up, to, her, older, sister, Geo...</td>\n",
       "    </tr>\n",
       "    <tr>\n",
       "      <th>38</th>\n",
       "      <td>tt0112697</td>\n",
       "      <td>Clueless</td>\n",
       "      <td>[Shallow,, rich, and, socially, successful, Ch...</td>\n",
       "      <td>[Comedy, Drama, Romance]</td>\n",
       "      <td>[en]</td>\n",
       "      <td>https://images-na.ssl-images-amazon.com/images...</td>\n",
       "      <td>19/07/1995</td>\n",
       "      <td>[1995]</td>\n",
       "      <td>[Shallow,, rich, and, socially, successful, Ch...</td>\n",
       "    </tr>\n",
       "    <tr>\n",
       "      <th>37</th>\n",
       "      <td>tt0113442</td>\n",
       "      <td>It Takes Two</td>\n",
       "      <td>[Identical, 9-year-olds, from, very, different...</td>\n",
       "      <td>[Comedy, Family, Romance]</td>\n",
       "      <td>[en]</td>\n",
       "      <td>https://images-na.ssl-images-amazon.com/images...</td>\n",
       "      <td>17/11/1995</td>\n",
       "      <td>[1995]</td>\n",
       "      <td>[Identical, 9-year-olds, from, very, different...</td>\n",
       "    </tr>\n",
       "    <tr>\n",
       "      <th>36</th>\n",
       "      <td>tt0112286</td>\n",
       "      <td>Across the Sea of Time</td>\n",
       "      <td>[A, young, Russian, boy,, Thomas, Minton,, tra...</td>\n",
       "      <td>[Adventure, History, Drama, Family]</td>\n",
       "      <td>[en]</td>\n",
       "      <td>https://images-na.ssl-images-amazon.com/images...</td>\n",
       "      <td>20/10/1995</td>\n",
       "      <td>[1995]</td>\n",
       "      <td>[A, young, Russian, boy,, Thomas, Minton,, tra...</td>\n",
       "    </tr>\n",
       "  </tbody>\n",
       "</table>\n",
       "<p>15936 rows × 9 columns</p>\n",
       "</div>"
      ],
      "text/plain": [
       "         imdb_id                                            title  \\\n",
       "32963  tt2076298                                         Ip Man 4   \n",
       "37785  tt0069049                       The Other Side of the Wind   \n",
       "32836  tt3286052                         The Blackcoat's Daughter   \n",
       "36612  tt3039472  Return to Return to Nuke 'Em High, aka Volume 2   \n",
       "39477  tt3447228                            Women of '69, Unboxed   \n",
       "...          ...                                              ...   \n",
       "56     tt0113321                            Home for the Holidays   \n",
       "54     tt0113158                                          Georgia   \n",
       "38     tt0112697                                         Clueless   \n",
       "37     tt0113442                                     It Takes Two   \n",
       "36     tt0112286                           Across the Sea of Time   \n",
       "\n",
       "                                                overview  \\\n",
       "32963  [Plot, unknown., The, fourth, installment, of,...   \n",
       "37785  [Orson, Welles', unfinished, masterpiece,, res...   \n",
       "32836  [In, the, dead, of, winter,, Kat, and, Rose,, ...   \n",
       "36612  [Following, the, events, of, Volume, 1,, the, ...   \n",
       "39477  [Intimate,, personalized, portrait, of, women,...   \n",
       "...                                                  ...   \n",
       "56     [After, losing, her, job,, making, out, with, ...   \n",
       "54     [Sadie, looks, up, to, her, older, sister, Geo...   \n",
       "38     [Shallow,, rich, and, socially, successful, Ch...   \n",
       "37     [Identical, 9-year-olds, from, very, different...   \n",
       "36     [A, young, Russian, boy,, Thomas, Minton,, tra...   \n",
       "\n",
       "                                    genres language  \\\n",
       "32963                             [Action]     [en]   \n",
       "37785                      [Comedy, Drama]     [en]   \n",
       "32836                   [Horror, Thriller]     [en]   \n",
       "36612                     [Comedy, Horror]     [en]   \n",
       "39477                        [Documentary]     [en]   \n",
       "...                                    ...      ...   \n",
       "56                [Comedy, Drama, Romance]     [en]   \n",
       "54                                 [Drama]     [en]   \n",
       "38                [Comedy, Drama, Romance]     [en]   \n",
       "37               [Comedy, Family, Romance]     [en]   \n",
       "36     [Adventure, History, Drama, Family]     [en]   \n",
       "\n",
       "                                            poster_links release_date  \\\n",
       "32963  https://images-na.ssl-images-amazon.com/images...   18/10/2018   \n",
       "37785  https://images-na.ssl-images-amazon.com/images...   31/12/2018   \n",
       "32836  https://images-na.ssl-images-amazon.com/images...   31/03/2017   \n",
       "36612  https://images-na.ssl-images-amazon.com/images...   15/07/2017   \n",
       "39477  https://images-na.ssl-images-amazon.com/images...   15/01/2017   \n",
       "...                                                  ...          ...   \n",
       "56     https://images-na.ssl-images-amazon.com/images...   02/11/1995   \n",
       "54     https://images-na.ssl-images-amazon.com/images...   19/05/1995   \n",
       "38     https://images-na.ssl-images-amazon.com/images...   19/07/1995   \n",
       "37     https://images-na.ssl-images-amazon.com/images...   17/11/1995   \n",
       "36     https://images-na.ssl-images-amazon.com/images...   20/10/1995   \n",
       "\n",
       "      release_year                                               tags  \n",
       "32963       [2018]  [Plot, unknown., The, fourth, installment, of,...  \n",
       "37785       [2018]  [Orson, Welles', unfinished, masterpiece,, res...  \n",
       "32836       [2017]  [In, the, dead, of, winter,, Kat, and, Rose,, ...  \n",
       "36612       [2017]  [Following, the, events, of, Volume, 1,, the, ...  \n",
       "39477       [2017]  [Intimate,, personalized, portrait, of, women,...  \n",
       "...            ...                                                ...  \n",
       "56          [1995]  [After, losing, her, job,, making, out, with, ...  \n",
       "54          [1995]  [Sadie, looks, up, to, her, older, sister, Geo...  \n",
       "38          [1995]  [Shallow,, rich, and, socially, successful, Ch...  \n",
       "37          [1995]  [Identical, 9-year-olds, from, very, different...  \n",
       "36          [1995]  [A, young, Russian, boy,, Thomas, Minton,, tra...  \n",
       "\n",
       "[15936 rows x 9 columns]"
      ]
     },
     "execution_count": 46,
     "metadata": {},
     "output_type": "execute_result"
    }
   ],
   "source": [
    "movies"
   ]
  },
  {
   "cell_type": "code",
   "execution_count": 47,
   "metadata": {},
   "outputs": [],
   "source": [
    "del(movies[\"overview\"])\n",
    "del(movies[\"genres\"])\n",
    "del(movies[\"language\"])\n",
    "del(movies[\"release_year\"])\n",
    "del(movies[\"release_date\"])"
   ]
  },
  {
   "cell_type": "code",
   "execution_count": 48,
   "metadata": {},
   "outputs": [
    {
     "data": {
      "text/html": [
       "<div>\n",
       "<style scoped>\n",
       "    .dataframe tbody tr th:only-of-type {\n",
       "        vertical-align: middle;\n",
       "    }\n",
       "\n",
       "    .dataframe tbody tr th {\n",
       "        vertical-align: top;\n",
       "    }\n",
       "\n",
       "    .dataframe thead th {\n",
       "        text-align: right;\n",
       "    }\n",
       "</style>\n",
       "<table border=\"1\" class=\"dataframe\">\n",
       "  <thead>\n",
       "    <tr style=\"text-align: right;\">\n",
       "      <th></th>\n",
       "      <th>imdb_id</th>\n",
       "      <th>title</th>\n",
       "      <th>poster_links</th>\n",
       "      <th>tags</th>\n",
       "    </tr>\n",
       "  </thead>\n",
       "  <tbody>\n",
       "    <tr>\n",
       "      <th>32963</th>\n",
       "      <td>tt2076298</td>\n",
       "      <td>Ip Man 4</td>\n",
       "      <td>https://images-na.ssl-images-amazon.com/images...</td>\n",
       "      <td>[Plot, unknown., The, fourth, installment, of,...</td>\n",
       "    </tr>\n",
       "    <tr>\n",
       "      <th>37785</th>\n",
       "      <td>tt0069049</td>\n",
       "      <td>The Other Side of the Wind</td>\n",
       "      <td>https://images-na.ssl-images-amazon.com/images...</td>\n",
       "      <td>[Orson, Welles', unfinished, masterpiece,, res...</td>\n",
       "    </tr>\n",
       "    <tr>\n",
       "      <th>32836</th>\n",
       "      <td>tt3286052</td>\n",
       "      <td>The Blackcoat's Daughter</td>\n",
       "      <td>https://images-na.ssl-images-amazon.com/images...</td>\n",
       "      <td>[In, the, dead, of, winter,, Kat, and, Rose,, ...</td>\n",
       "    </tr>\n",
       "    <tr>\n",
       "      <th>36612</th>\n",
       "      <td>tt3039472</td>\n",
       "      <td>Return to Return to Nuke 'Em High, aka Volume 2</td>\n",
       "      <td>https://images-na.ssl-images-amazon.com/images...</td>\n",
       "      <td>[Following, the, events, of, Volume, 1,, the, ...</td>\n",
       "    </tr>\n",
       "    <tr>\n",
       "      <th>39477</th>\n",
       "      <td>tt3447228</td>\n",
       "      <td>Women of '69, Unboxed</td>\n",
       "      <td>https://images-na.ssl-images-amazon.com/images...</td>\n",
       "      <td>[Intimate,, personalized, portrait, of, women,...</td>\n",
       "    </tr>\n",
       "    <tr>\n",
       "      <th>...</th>\n",
       "      <td>...</td>\n",
       "      <td>...</td>\n",
       "      <td>...</td>\n",
       "      <td>...</td>\n",
       "    </tr>\n",
       "    <tr>\n",
       "      <th>56</th>\n",
       "      <td>tt0113321</td>\n",
       "      <td>Home for the Holidays</td>\n",
       "      <td>https://images-na.ssl-images-amazon.com/images...</td>\n",
       "      <td>[After, losing, her, job,, making, out, with, ...</td>\n",
       "    </tr>\n",
       "    <tr>\n",
       "      <th>54</th>\n",
       "      <td>tt0113158</td>\n",
       "      <td>Georgia</td>\n",
       "      <td>https://images-na.ssl-images-amazon.com/images...</td>\n",
       "      <td>[Sadie, looks, up, to, her, older, sister, Geo...</td>\n",
       "    </tr>\n",
       "    <tr>\n",
       "      <th>38</th>\n",
       "      <td>tt0112697</td>\n",
       "      <td>Clueless</td>\n",
       "      <td>https://images-na.ssl-images-amazon.com/images...</td>\n",
       "      <td>[Shallow,, rich, and, socially, successful, Ch...</td>\n",
       "    </tr>\n",
       "    <tr>\n",
       "      <th>37</th>\n",
       "      <td>tt0113442</td>\n",
       "      <td>It Takes Two</td>\n",
       "      <td>https://images-na.ssl-images-amazon.com/images...</td>\n",
       "      <td>[Identical, 9-year-olds, from, very, different...</td>\n",
       "    </tr>\n",
       "    <tr>\n",
       "      <th>36</th>\n",
       "      <td>tt0112286</td>\n",
       "      <td>Across the Sea of Time</td>\n",
       "      <td>https://images-na.ssl-images-amazon.com/images...</td>\n",
       "      <td>[A, young, Russian, boy,, Thomas, Minton,, tra...</td>\n",
       "    </tr>\n",
       "  </tbody>\n",
       "</table>\n",
       "<p>15936 rows × 4 columns</p>\n",
       "</div>"
      ],
      "text/plain": [
       "         imdb_id                                            title  \\\n",
       "32963  tt2076298                                         Ip Man 4   \n",
       "37785  tt0069049                       The Other Side of the Wind   \n",
       "32836  tt3286052                         The Blackcoat's Daughter   \n",
       "36612  tt3039472  Return to Return to Nuke 'Em High, aka Volume 2   \n",
       "39477  tt3447228                            Women of '69, Unboxed   \n",
       "...          ...                                              ...   \n",
       "56     tt0113321                            Home for the Holidays   \n",
       "54     tt0113158                                          Georgia   \n",
       "38     tt0112697                                         Clueless   \n",
       "37     tt0113442                                     It Takes Two   \n",
       "36     tt0112286                           Across the Sea of Time   \n",
       "\n",
       "                                            poster_links  \\\n",
       "32963  https://images-na.ssl-images-amazon.com/images...   \n",
       "37785  https://images-na.ssl-images-amazon.com/images...   \n",
       "32836  https://images-na.ssl-images-amazon.com/images...   \n",
       "36612  https://images-na.ssl-images-amazon.com/images...   \n",
       "39477  https://images-na.ssl-images-amazon.com/images...   \n",
       "...                                                  ...   \n",
       "56     https://images-na.ssl-images-amazon.com/images...   \n",
       "54     https://images-na.ssl-images-amazon.com/images...   \n",
       "38     https://images-na.ssl-images-amazon.com/images...   \n",
       "37     https://images-na.ssl-images-amazon.com/images...   \n",
       "36     https://images-na.ssl-images-amazon.com/images...   \n",
       "\n",
       "                                                    tags  \n",
       "32963  [Plot, unknown., The, fourth, installment, of,...  \n",
       "37785  [Orson, Welles', unfinished, masterpiece,, res...  \n",
       "32836  [In, the, dead, of, winter,, Kat, and, Rose,, ...  \n",
       "36612  [Following, the, events, of, Volume, 1,, the, ...  \n",
       "39477  [Intimate,, personalized, portrait, of, women,...  \n",
       "...                                                  ...  \n",
       "56     [After, losing, her, job,, making, out, with, ...  \n",
       "54     [Sadie, looks, up, to, her, older, sister, Geo...  \n",
       "38     [Shallow,, rich, and, socially, successful, Ch...  \n",
       "37     [Identical, 9-year-olds, from, very, different...  \n",
       "36     [A, young, Russian, boy,, Thomas, Minton,, tra...  \n",
       "\n",
       "[15936 rows x 4 columns]"
      ]
     },
     "execution_count": 48,
     "metadata": {},
     "output_type": "execute_result"
    }
   ],
   "source": [
    "movies"
   ]
  },
  {
   "cell_type": "code",
   "execution_count": 49,
   "metadata": {
    "executionInfo": {
     "elapsed": 447,
     "status": "ok",
     "timestamp": 1732716467059,
     "user": {
      "displayName": "Yiskaa",
      "userId": "Hidden"
     },
     "user_tz": -330
    },
    "id": "m8q2xQ3k7QWf"
   },
   "outputs": [
    {
     "name": "stderr",
     "output_type": "stream",
     "text": [
      "SettingWithCopyWarning: \n",
      "A value is trying to be set on a copy of a slice from a DataFrame.\n",
      "Try using .loc[row_indexer,col_indexer] = value instead\n",
      "\n",
      "See the caveats in the documentation: https://pandas.pydata.org/pandas-docs/stable/user_guide/indexing.html#returning-a-view-versus-a-copy\n",
      "  movies[\"tags\"] = movies[\"tags\"].apply(lambda x: [a.lower() for a in x])\n"
     ]
    }
   ],
   "source": [
    "movies[\"tags\"] = movies[\"tags\"].apply(lambda x: [a.lower() for a in x])"
   ]
  },
  {
   "cell_type": "code",
   "execution_count": 50,
   "metadata": {
    "colab": {
     "base_uri": "https://localhost:8080/",
     "height": 98
    },
    "executionInfo": {
     "elapsed": 423,
     "status": "ok",
     "timestamp": 1732716469017,
     "user": {
      "displayName": "Yiskaa",
      "userId": "Hidden"
     },
     "user_tz": -330
    },
    "id": "qBPvhEKb7QWf",
    "outputId": "a0e638f2-78f0-4807-887d-0bfda0746651"
   },
   "outputs": [
    {
     "data": {
      "text/html": [
       "<div>\n",
       "<style scoped>\n",
       "    .dataframe tbody tr th:only-of-type {\n",
       "        vertical-align: middle;\n",
       "    }\n",
       "\n",
       "    .dataframe tbody tr th {\n",
       "        vertical-align: top;\n",
       "    }\n",
       "\n",
       "    .dataframe thead th {\n",
       "        text-align: right;\n",
       "    }\n",
       "</style>\n",
       "<table border=\"1\" class=\"dataframe\">\n",
       "  <thead>\n",
       "    <tr style=\"text-align: right;\">\n",
       "      <th></th>\n",
       "      <th>imdb_id</th>\n",
       "      <th>title</th>\n",
       "      <th>poster_links</th>\n",
       "      <th>tags</th>\n",
       "    </tr>\n",
       "  </thead>\n",
       "  <tbody>\n",
       "    <tr>\n",
       "      <th>32963</th>\n",
       "      <td>tt2076298</td>\n",
       "      <td>Ip Man 4</td>\n",
       "      <td>https://images-na.ssl-images-amazon.com/images...</td>\n",
       "      <td>[plot, unknown., the, fourth, installment, of,...</td>\n",
       "    </tr>\n",
       "    <tr>\n",
       "      <th>37785</th>\n",
       "      <td>tt0069049</td>\n",
       "      <td>The Other Side of the Wind</td>\n",
       "      <td>https://images-na.ssl-images-amazon.com/images...</td>\n",
       "      <td>[orson, welles', unfinished, masterpiece,, res...</td>\n",
       "    </tr>\n",
       "    <tr>\n",
       "      <th>32836</th>\n",
       "      <td>tt3286052</td>\n",
       "      <td>The Blackcoat's Daughter</td>\n",
       "      <td>https://images-na.ssl-images-amazon.com/images...</td>\n",
       "      <td>[in, the, dead, of, winter,, kat, and, rose,, ...</td>\n",
       "    </tr>\n",
       "    <tr>\n",
       "      <th>36612</th>\n",
       "      <td>tt3039472</td>\n",
       "      <td>Return to Return to Nuke 'Em High, aka Volume 2</td>\n",
       "      <td>https://images-na.ssl-images-amazon.com/images...</td>\n",
       "      <td>[following, the, events, of, volume, 1,, the, ...</td>\n",
       "    </tr>\n",
       "    <tr>\n",
       "      <th>39477</th>\n",
       "      <td>tt3447228</td>\n",
       "      <td>Women of '69, Unboxed</td>\n",
       "      <td>https://images-na.ssl-images-amazon.com/images...</td>\n",
       "      <td>[intimate,, personalized, portrait, of, women,...</td>\n",
       "    </tr>\n",
       "    <tr>\n",
       "      <th>...</th>\n",
       "      <td>...</td>\n",
       "      <td>...</td>\n",
       "      <td>...</td>\n",
       "      <td>...</td>\n",
       "    </tr>\n",
       "    <tr>\n",
       "      <th>56</th>\n",
       "      <td>tt0113321</td>\n",
       "      <td>Home for the Holidays</td>\n",
       "      <td>https://images-na.ssl-images-amazon.com/images...</td>\n",
       "      <td>[after, losing, her, job,, making, out, with, ...</td>\n",
       "    </tr>\n",
       "    <tr>\n",
       "      <th>54</th>\n",
       "      <td>tt0113158</td>\n",
       "      <td>Georgia</td>\n",
       "      <td>https://images-na.ssl-images-amazon.com/images...</td>\n",
       "      <td>[sadie, looks, up, to, her, older, sister, geo...</td>\n",
       "    </tr>\n",
       "    <tr>\n",
       "      <th>38</th>\n",
       "      <td>tt0112697</td>\n",
       "      <td>Clueless</td>\n",
       "      <td>https://images-na.ssl-images-amazon.com/images...</td>\n",
       "      <td>[shallow,, rich, and, socially, successful, ch...</td>\n",
       "    </tr>\n",
       "    <tr>\n",
       "      <th>37</th>\n",
       "      <td>tt0113442</td>\n",
       "      <td>It Takes Two</td>\n",
       "      <td>https://images-na.ssl-images-amazon.com/images...</td>\n",
       "      <td>[identical, 9-year-olds, from, very, different...</td>\n",
       "    </tr>\n",
       "    <tr>\n",
       "      <th>36</th>\n",
       "      <td>tt0112286</td>\n",
       "      <td>Across the Sea of Time</td>\n",
       "      <td>https://images-na.ssl-images-amazon.com/images...</td>\n",
       "      <td>[a, young, russian, boy,, thomas, minton,, tra...</td>\n",
       "    </tr>\n",
       "  </tbody>\n",
       "</table>\n",
       "<p>15936 rows × 4 columns</p>\n",
       "</div>"
      ],
      "text/plain": [
       "         imdb_id                                            title  \\\n",
       "32963  tt2076298                                         Ip Man 4   \n",
       "37785  tt0069049                       The Other Side of the Wind   \n",
       "32836  tt3286052                         The Blackcoat's Daughter   \n",
       "36612  tt3039472  Return to Return to Nuke 'Em High, aka Volume 2   \n",
       "39477  tt3447228                            Women of '69, Unboxed   \n",
       "...          ...                                              ...   \n",
       "56     tt0113321                            Home for the Holidays   \n",
       "54     tt0113158                                          Georgia   \n",
       "38     tt0112697                                         Clueless   \n",
       "37     tt0113442                                     It Takes Two   \n",
       "36     tt0112286                           Across the Sea of Time   \n",
       "\n",
       "                                            poster_links  \\\n",
       "32963  https://images-na.ssl-images-amazon.com/images...   \n",
       "37785  https://images-na.ssl-images-amazon.com/images...   \n",
       "32836  https://images-na.ssl-images-amazon.com/images...   \n",
       "36612  https://images-na.ssl-images-amazon.com/images...   \n",
       "39477  https://images-na.ssl-images-amazon.com/images...   \n",
       "...                                                  ...   \n",
       "56     https://images-na.ssl-images-amazon.com/images...   \n",
       "54     https://images-na.ssl-images-amazon.com/images...   \n",
       "38     https://images-na.ssl-images-amazon.com/images...   \n",
       "37     https://images-na.ssl-images-amazon.com/images...   \n",
       "36     https://images-na.ssl-images-amazon.com/images...   \n",
       "\n",
       "                                                    tags  \n",
       "32963  [plot, unknown., the, fourth, installment, of,...  \n",
       "37785  [orson, welles', unfinished, masterpiece,, res...  \n",
       "32836  [in, the, dead, of, winter,, kat, and, rose,, ...  \n",
       "36612  [following, the, events, of, volume, 1,, the, ...  \n",
       "39477  [intimate,, personalized, portrait, of, women,...  \n",
       "...                                                  ...  \n",
       "56     [after, losing, her, job,, making, out, with, ...  \n",
       "54     [sadie, looks, up, to, her, older, sister, geo...  \n",
       "38     [shallow,, rich, and, socially, successful, ch...  \n",
       "37     [identical, 9-year-olds, from, very, different...  \n",
       "36     [a, young, russian, boy,, thomas, minton,, tra...  \n",
       "\n",
       "[15936 rows x 4 columns]"
      ]
     },
     "execution_count": 50,
     "metadata": {},
     "output_type": "execute_result"
    }
   ],
   "source": [
    "movies"
   ]
  },
  {
   "cell_type": "code",
   "execution_count": 51,
   "metadata": {
    "executionInfo": {
     "elapsed": 487,
     "status": "ok",
     "timestamp": 1732716491817,
     "user": {
      "displayName": "Yiskaa",
      "userId": "Hidden"
     },
     "user_tz": -330
    },
    "id": "KDH2cBWj8zoe"
   },
   "outputs": [],
   "source": [
    "movies = movies.sort_values(by='title', ascending=True)"
   ]
  },
  {
   "cell_type": "code",
   "execution_count": 52,
   "metadata": {
    "colab": {
     "base_uri": "https://localhost:8080/",
     "height": 81
    },
    "executionInfo": {
     "elapsed": 481,
     "status": "ok",
     "timestamp": 1732716494729,
     "user": {
      "displayName": "Yiskaa",
      "userId": "Hidden"
     },
     "user_tz": -330
    },
    "id": "V2yC_odS7QWf",
    "outputId": "637ee370-1612-490f-e632-713690c548b0"
   },
   "outputs": [
    {
     "data": {
      "text/html": [
       "<div>\n",
       "<style scoped>\n",
       "    .dataframe tbody tr th:only-of-type {\n",
       "        vertical-align: middle;\n",
       "    }\n",
       "\n",
       "    .dataframe tbody tr th {\n",
       "        vertical-align: top;\n",
       "    }\n",
       "\n",
       "    .dataframe thead th {\n",
       "        text-align: right;\n",
       "    }\n",
       "</style>\n",
       "<table border=\"1\" class=\"dataframe\">\n",
       "  <thead>\n",
       "    <tr style=\"text-align: right;\">\n",
       "      <th></th>\n",
       "      <th>imdb_id</th>\n",
       "      <th>title</th>\n",
       "      <th>poster_links</th>\n",
       "      <th>tags</th>\n",
       "    </tr>\n",
       "  </thead>\n",
       "  <tbody>\n",
       "    <tr>\n",
       "      <th>19301</th>\n",
       "      <td>tt1699720</td>\n",
       "      <td>!Women Art Revolution</td>\n",
       "      <td>https://images-na.ssl-images-amazon.com/images...</td>\n",
       "      <td>[through, intimate, interviews,, provocative, ...</td>\n",
       "    </tr>\n",
       "    <tr>\n",
       "      <th>23957</th>\n",
       "      <td>tt3060338</td>\n",
       "      <td>#chicagoGirl</td>\n",
       "      <td>https://images-na.ssl-images-amazon.com/images...</td>\n",
       "      <td>[from, her, childhood, bedroom, in, the, chica...</td>\n",
       "    </tr>\n",
       "    <tr>\n",
       "      <th>16336</th>\n",
       "      <td>tt1024733</td>\n",
       "      <td>$5 a Day</td>\n",
       "      <td>https://images-na.ssl-images-amazon.com/images...</td>\n",
       "      <td>[after, being, released, from, jail,, the, son...</td>\n",
       "    </tr>\n",
       "    <tr>\n",
       "      <th>35214</th>\n",
       "      <td>tt2106284</td>\n",
       "      <td>$50K and a Call Girl: A Love Story</td>\n",
       "      <td>https://images-na.ssl-images-amazon.com/images...</td>\n",
       "      <td>[when, ross, is, diagnosed, with, terminal, br...</td>\n",
       "    </tr>\n",
       "    <tr>\n",
       "      <th>15395</th>\n",
       "      <td>tt0790799</td>\n",
       "      <td>$9.99</td>\n",
       "      <td>https://images-na.ssl-images-amazon.com/images...</td>\n",
       "      <td>[have, you, ever, wondered, \"what, is, the, me...</td>\n",
       "    </tr>\n",
       "    <tr>\n",
       "      <th>...</th>\n",
       "      <td>...</td>\n",
       "      <td>...</td>\n",
       "      <td>...</td>\n",
       "      <td>...</td>\n",
       "    </tr>\n",
       "    <tr>\n",
       "      <th>30601</th>\n",
       "      <td>tt0485061</td>\n",
       "      <td>uwantme2killhim?</td>\n",
       "      <td>https://images-na.ssl-images-amazon.com/images...</td>\n",
       "      <td>[based, on, the, vanity, fair, article, of, th...</td>\n",
       "    </tr>\n",
       "    <tr>\n",
       "      <th>5360</th>\n",
       "      <td>tt0295701</td>\n",
       "      <td>xXx</td>\n",
       "      <td>https://images-na.ssl-images-amazon.com/images...</td>\n",
       "      <td>[xander, cage, is, your, standard, adrenaline,...</td>\n",
       "    </tr>\n",
       "    <tr>\n",
       "      <th>9989</th>\n",
       "      <td>tt0329774</td>\n",
       "      <td>xXx: State of the Union</td>\n",
       "      <td>https://images-na.ssl-images-amazon.com/images...</td>\n",
       "      <td>[ice, cube, stars, as, darius, stone,, a, thri...</td>\n",
       "    </tr>\n",
       "    <tr>\n",
       "      <th>10349</th>\n",
       "      <td>tt0402022</td>\n",
       "      <td>Ãon Flux</td>\n",
       "      <td>https://images-na.ssl-images-amazon.com/images...</td>\n",
       "      <td>[400, years, into, the, future,, disease, has,...</td>\n",
       "    </tr>\n",
       "    <tr>\n",
       "      <th>27751</th>\n",
       "      <td>tt0257290</td>\n",
       "      <td>Ãvegtigris</td>\n",
       "      <td>https://images-na.ssl-images-amazon.com/images...</td>\n",
       "      <td>[this, film, tells, the, story, of, a, few, un...</td>\n",
       "    </tr>\n",
       "  </tbody>\n",
       "</table>\n",
       "<p>15936 rows × 4 columns</p>\n",
       "</div>"
      ],
      "text/plain": [
       "         imdb_id                               title  \\\n",
       "19301  tt1699720               !Women Art Revolution   \n",
       "23957  tt3060338                        #chicagoGirl   \n",
       "16336  tt1024733                            $5 a Day   \n",
       "35214  tt2106284  $50K and a Call Girl: A Love Story   \n",
       "15395  tt0790799                               $9.99   \n",
       "...          ...                                 ...   \n",
       "30601  tt0485061                    uwantme2killhim?   \n",
       "5360   tt0295701                                 xXx   \n",
       "9989   tt0329774             xXx: State of the Union   \n",
       "10349  tt0402022                           Ãon Flux   \n",
       "27751  tt0257290                         Ãvegtigris   \n",
       "\n",
       "                                            poster_links  \\\n",
       "19301  https://images-na.ssl-images-amazon.com/images...   \n",
       "23957  https://images-na.ssl-images-amazon.com/images...   \n",
       "16336  https://images-na.ssl-images-amazon.com/images...   \n",
       "35214  https://images-na.ssl-images-amazon.com/images...   \n",
       "15395  https://images-na.ssl-images-amazon.com/images...   \n",
       "...                                                  ...   \n",
       "30601  https://images-na.ssl-images-amazon.com/images...   \n",
       "5360   https://images-na.ssl-images-amazon.com/images...   \n",
       "9989   https://images-na.ssl-images-amazon.com/images...   \n",
       "10349  https://images-na.ssl-images-amazon.com/images...   \n",
       "27751  https://images-na.ssl-images-amazon.com/images...   \n",
       "\n",
       "                                                    tags  \n",
       "19301  [through, intimate, interviews,, provocative, ...  \n",
       "23957  [from, her, childhood, bedroom, in, the, chica...  \n",
       "16336  [after, being, released, from, jail,, the, son...  \n",
       "35214  [when, ross, is, diagnosed, with, terminal, br...  \n",
       "15395  [have, you, ever, wondered, \"what, is, the, me...  \n",
       "...                                                  ...  \n",
       "30601  [based, on, the, vanity, fair, article, of, th...  \n",
       "5360   [xander, cage, is, your, standard, adrenaline,...  \n",
       "9989   [ice, cube, stars, as, darius, stone,, a, thri...  \n",
       "10349  [400, years, into, the, future,, disease, has,...  \n",
       "27751  [this, film, tells, the, story, of, a, few, un...  \n",
       "\n",
       "[15936 rows x 4 columns]"
      ]
     },
     "execution_count": 52,
     "metadata": {},
     "output_type": "execute_result"
    }
   ],
   "source": [
    "movies"
   ]
  },
  {
   "cell_type": "code",
   "execution_count": 53,
   "metadata": {},
   "outputs": [],
   "source": [
    "def starts_with_special_char(title):\n",
    "    return not title[0].isalnum() and not title[0].isspace()"
   ]
  },
  {
   "cell_type": "code",
   "execution_count": 54,
   "metadata": {},
   "outputs": [],
   "source": [
    "movies = movies[~movies['title'].apply(starts_with_special_char)]"
   ]
  },
  {
   "cell_type": "code",
   "execution_count": 55,
   "metadata": {},
   "outputs": [],
   "source": [
    "movies = movies.reset_index(drop=True)"
   ]
  },
  {
   "cell_type": "code",
   "execution_count": 56,
   "metadata": {},
   "outputs": [
    {
     "data": {
      "text/html": [
       "<div>\n",
       "<style scoped>\n",
       "    .dataframe tbody tr th:only-of-type {\n",
       "        vertical-align: middle;\n",
       "    }\n",
       "\n",
       "    .dataframe tbody tr th {\n",
       "        vertical-align: top;\n",
       "    }\n",
       "\n",
       "    .dataframe thead th {\n",
       "        text-align: right;\n",
       "    }\n",
       "</style>\n",
       "<table border=\"1\" class=\"dataframe\">\n",
       "  <thead>\n",
       "    <tr style=\"text-align: right;\">\n",
       "      <th></th>\n",
       "      <th>imdb_id</th>\n",
       "      <th>title</th>\n",
       "      <th>poster_links</th>\n",
       "      <th>tags</th>\n",
       "    </tr>\n",
       "  </thead>\n",
       "  <tbody>\n",
       "    <tr>\n",
       "      <th>0</th>\n",
       "      <td>tt1002561</td>\n",
       "      <td>02:13</td>\n",
       "      <td>https://images-na.ssl-images-amazon.com/images...</td>\n",
       "      <td>[a, police, profiler, has, just, returned, fro...</td>\n",
       "    </tr>\n",
       "    <tr>\n",
       "      <th>1</th>\n",
       "      <td>tt1261041</td>\n",
       "      <td>02:22</td>\n",
       "      <td>https://images-na.ssl-images-amazon.com/images...</td>\n",
       "      <td>[the, plan, was, easy;, the, job, was, not., o...</td>\n",
       "    </tr>\n",
       "    <tr>\n",
       "      <th>2</th>\n",
       "      <td>tt0472582</td>\n",
       "      <td>02:37</td>\n",
       "      <td>https://images-na.ssl-images-amazon.com/images...</td>\n",
       "      <td>[a, contemporary,, ensemble, drama, telling, t...</td>\n",
       "    </tr>\n",
       "    <tr>\n",
       "      <th>3</th>\n",
       "      <td>tt2048688</td>\n",
       "      <td>08:46</td>\n",
       "      <td>https://images-na.ssl-images-amazon.com/images...</td>\n",
       "      <td>[a, glimpse, into, the, lives, of, an, ensembl...</td>\n",
       "    </tr>\n",
       "    <tr>\n",
       "      <th>4</th>\n",
       "      <td>tt0312318</td>\n",
       "      <td>09-nov</td>\n",
       "      <td>https://images-na.ssl-images-amazon.com/images...</td>\n",
       "      <td>[an, on-the-scene, documentary, following, the...</td>\n",
       "    </tr>\n",
       "    <tr>\n",
       "      <th>...</th>\n",
       "      <td>...</td>\n",
       "      <td>...</td>\n",
       "      <td>...</td>\n",
       "      <td>...</td>\n",
       "    </tr>\n",
       "    <tr>\n",
       "      <th>15914</th>\n",
       "      <td>tt0485061</td>\n",
       "      <td>uwantme2killhim?</td>\n",
       "      <td>https://images-na.ssl-images-amazon.com/images...</td>\n",
       "      <td>[based, on, the, vanity, fair, article, of, th...</td>\n",
       "    </tr>\n",
       "    <tr>\n",
       "      <th>15915</th>\n",
       "      <td>tt0295701</td>\n",
       "      <td>xXx</td>\n",
       "      <td>https://images-na.ssl-images-amazon.com/images...</td>\n",
       "      <td>[xander, cage, is, your, standard, adrenaline,...</td>\n",
       "    </tr>\n",
       "    <tr>\n",
       "      <th>15916</th>\n",
       "      <td>tt0329774</td>\n",
       "      <td>xXx: State of the Union</td>\n",
       "      <td>https://images-na.ssl-images-amazon.com/images...</td>\n",
       "      <td>[ice, cube, stars, as, darius, stone,, a, thri...</td>\n",
       "    </tr>\n",
       "    <tr>\n",
       "      <th>15917</th>\n",
       "      <td>tt0402022</td>\n",
       "      <td>Ãon Flux</td>\n",
       "      <td>https://images-na.ssl-images-amazon.com/images...</td>\n",
       "      <td>[400, years, into, the, future,, disease, has,...</td>\n",
       "    </tr>\n",
       "    <tr>\n",
       "      <th>15918</th>\n",
       "      <td>tt0257290</td>\n",
       "      <td>Ãvegtigris</td>\n",
       "      <td>https://images-na.ssl-images-amazon.com/images...</td>\n",
       "      <td>[this, film, tells, the, story, of, a, few, un...</td>\n",
       "    </tr>\n",
       "  </tbody>\n",
       "</table>\n",
       "<p>15919 rows × 4 columns</p>\n",
       "</div>"
      ],
      "text/plain": [
       "         imdb_id                    title  \\\n",
       "0      tt1002561                    02:13   \n",
       "1      tt1261041                    02:22   \n",
       "2      tt0472582                    02:37   \n",
       "3      tt2048688                    08:46   \n",
       "4      tt0312318                   09-nov   \n",
       "...          ...                      ...   \n",
       "15914  tt0485061         uwantme2killhim?   \n",
       "15915  tt0295701                      xXx   \n",
       "15916  tt0329774  xXx: State of the Union   \n",
       "15917  tt0402022                Ãon Flux   \n",
       "15918  tt0257290              Ãvegtigris   \n",
       "\n",
       "                                            poster_links  \\\n",
       "0      https://images-na.ssl-images-amazon.com/images...   \n",
       "1      https://images-na.ssl-images-amazon.com/images...   \n",
       "2      https://images-na.ssl-images-amazon.com/images...   \n",
       "3      https://images-na.ssl-images-amazon.com/images...   \n",
       "4      https://images-na.ssl-images-amazon.com/images...   \n",
       "...                                                  ...   \n",
       "15914  https://images-na.ssl-images-amazon.com/images...   \n",
       "15915  https://images-na.ssl-images-amazon.com/images...   \n",
       "15916  https://images-na.ssl-images-amazon.com/images...   \n",
       "15917  https://images-na.ssl-images-amazon.com/images...   \n",
       "15918  https://images-na.ssl-images-amazon.com/images...   \n",
       "\n",
       "                                                    tags  \n",
       "0      [a, police, profiler, has, just, returned, fro...  \n",
       "1      [the, plan, was, easy;, the, job, was, not., o...  \n",
       "2      [a, contemporary,, ensemble, drama, telling, t...  \n",
       "3      [a, glimpse, into, the, lives, of, an, ensembl...  \n",
       "4      [an, on-the-scene, documentary, following, the...  \n",
       "...                                                  ...  \n",
       "15914  [based, on, the, vanity, fair, article, of, th...  \n",
       "15915  [xander, cage, is, your, standard, adrenaline,...  \n",
       "15916  [ice, cube, stars, as, darius, stone,, a, thri...  \n",
       "15917  [400, years, into, the, future,, disease, has,...  \n",
       "15918  [this, film, tells, the, story, of, a, few, un...  \n",
       "\n",
       "[15919 rows x 4 columns]"
      ]
     },
     "execution_count": 56,
     "metadata": {},
     "output_type": "execute_result"
    }
   ],
   "source": [
    "movies"
   ]
  },
  {
   "cell_type": "code",
   "execution_count": 57,
   "metadata": {
    "executionInfo": {
     "elapsed": 10206,
     "status": "ok",
     "timestamp": 1732716509787,
     "user": {
      "displayName": "Yiskaa",
      "userId": "Hidden"
     },
     "user_tz": -330
    },
    "id": "eUp2qid17QWf"
   },
   "outputs": [],
   "source": [
    "from nltk.stem import PorterStemmer\n",
    "\n",
    "ps = PorterStemmer()"
   ]
  },
  {
   "cell_type": "code",
   "execution_count": 58,
   "metadata": {
    "executionInfo": {
     "elapsed": 4,
     "status": "ok",
     "timestamp": 1732716513746,
     "user": {
      "displayName": "Yiskaa",
      "userId": "Hidden"
     },
     "user_tz": -330
    },
    "id": "3YhTOpwR7QWg"
   },
   "outputs": [],
   "source": [
    "# Define the stemming function\n",
    "def stem_text(text):\n",
    "    return \" \".join([ps.stem(word) for word in text.split()])"
   ]
  },
  {
   "cell_type": "code",
   "execution_count": 59,
   "metadata": {
    "executionInfo": {
     "elapsed": 413,
     "status": "ok",
     "timestamp": 1732716517515,
     "user": {
      "displayName": "Yiskaa",
      "userId": "Hidden"
     },
     "user_tz": -330
    },
    "id": "ywQ0Kr-07QWg"
   },
   "outputs": [],
   "source": [
    "movies[\"tags\"] = movies[\"tags\"].apply(lambda x:\" \".join(x))"
   ]
  },
  {
   "cell_type": "code",
   "execution_count": 60,
   "metadata": {
    "executionInfo": {
     "elapsed": 27292,
     "status": "ok",
     "timestamp": 1732716546792,
     "user": {
      "displayName": "Yiskaa",
      "userId": "Hidden"
     },
     "user_tz": -330
    },
    "id": "IE6A6wOD7QWg"
   },
   "outputs": [],
   "source": [
    "movies[\"tags\"] = movies[\"tags\"].apply(stem_text)"
   ]
  },
  {
   "cell_type": "code",
   "execution_count": 61,
   "metadata": {
    "colab": {
     "base_uri": "https://localhost:8080/",
     "height": 81
    },
    "executionInfo": {
     "elapsed": 8,
     "status": "ok",
     "timestamp": 1732716549819,
     "user": {
      "displayName": "Yiskaa",
      "userId": "Hidden"
     },
     "user_tz": -330
    },
    "id": "zd54WxcF7QWg",
    "outputId": "ee36e95e-5088-4a06-8116-83cd94561870"
   },
   "outputs": [
    {
     "data": {
      "text/html": [
       "<div>\n",
       "<style scoped>\n",
       "    .dataframe tbody tr th:only-of-type {\n",
       "        vertical-align: middle;\n",
       "    }\n",
       "\n",
       "    .dataframe tbody tr th {\n",
       "        vertical-align: top;\n",
       "    }\n",
       "\n",
       "    .dataframe thead th {\n",
       "        text-align: right;\n",
       "    }\n",
       "</style>\n",
       "<table border=\"1\" class=\"dataframe\">\n",
       "  <thead>\n",
       "    <tr style=\"text-align: right;\">\n",
       "      <th></th>\n",
       "      <th>imdb_id</th>\n",
       "      <th>title</th>\n",
       "      <th>poster_links</th>\n",
       "      <th>tags</th>\n",
       "    </tr>\n",
       "  </thead>\n",
       "  <tbody>\n",
       "    <tr>\n",
       "      <th>0</th>\n",
       "      <td>tt1002561</td>\n",
       "      <td>02:13</td>\n",
       "      <td>https://images-na.ssl-images-amazon.com/images...</td>\n",
       "      <td>a polic profil ha just return from psychiatr l...</td>\n",
       "    </tr>\n",
       "    <tr>\n",
       "      <th>1</th>\n",
       "      <td>tt1261041</td>\n",
       "      <td>02:22</td>\n",
       "      <td>https://images-na.ssl-images-amazon.com/images...</td>\n",
       "      <td>the plan wa easy; the job wa not. on a snowi n...</td>\n",
       "    </tr>\n",
       "    <tr>\n",
       "      <th>2</th>\n",
       "      <td>tt0472582</td>\n",
       "      <td>02:37</td>\n",
       "      <td>https://images-na.ssl-images-amazon.com/images...</td>\n",
       "      <td>a contemporary, ensembl drama tell the complex...</td>\n",
       "    </tr>\n",
       "    <tr>\n",
       "      <th>3</th>\n",
       "      <td>tt2048688</td>\n",
       "      <td>08:46</td>\n",
       "      <td>https://images-na.ssl-images-amazon.com/images...</td>\n",
       "      <td>a glimps into the live of an ensembl of charac...</td>\n",
       "    </tr>\n",
       "    <tr>\n",
       "      <th>4</th>\n",
       "      <td>tt0312318</td>\n",
       "      <td>09-nov</td>\n",
       "      <td>https://images-na.ssl-images-amazon.com/images...</td>\n",
       "      <td>an on-the-scen documentari follow the event of...</td>\n",
       "    </tr>\n",
       "    <tr>\n",
       "      <th>...</th>\n",
       "      <td>...</td>\n",
       "      <td>...</td>\n",
       "      <td>...</td>\n",
       "      <td>...</td>\n",
       "    </tr>\n",
       "    <tr>\n",
       "      <th>15914</th>\n",
       "      <td>tt0485061</td>\n",
       "      <td>uwantme2killhim?</td>\n",
       "      <td>https://images-na.ssl-images-amazon.com/images...</td>\n",
       "      <td>base on the vaniti fair articl of the same tit...</td>\n",
       "    </tr>\n",
       "    <tr>\n",
       "      <th>15915</th>\n",
       "      <td>tt0295701</td>\n",
       "      <td>xXx</td>\n",
       "      <td>https://images-na.ssl-images-amazon.com/images...</td>\n",
       "      <td>xander cage is your standard adrenalin junki w...</td>\n",
       "    </tr>\n",
       "    <tr>\n",
       "      <th>15916</th>\n",
       "      <td>tt0329774</td>\n",
       "      <td>xXx: State of the Union</td>\n",
       "      <td>https://images-na.ssl-images-amazon.com/images...</td>\n",
       "      <td>ice cube star as dariu stone, a thrill-seek tr...</td>\n",
       "    </tr>\n",
       "    <tr>\n",
       "      <th>15917</th>\n",
       "      <td>tt0402022</td>\n",
       "      <td>Ãon Flux</td>\n",
       "      <td>https://images-na.ssl-images-amazon.com/images...</td>\n",
       "      <td>400 year into the future, diseas ha wipe out t...</td>\n",
       "    </tr>\n",
       "    <tr>\n",
       "      <th>15918</th>\n",
       "      <td>tt0257290</td>\n",
       "      <td>Ãvegtigris</td>\n",
       "      <td>https://images-na.ssl-images-amazon.com/images...</td>\n",
       "      <td>thi film tell the stori of a few unev day in t...</td>\n",
       "    </tr>\n",
       "  </tbody>\n",
       "</table>\n",
       "<p>15919 rows × 4 columns</p>\n",
       "</div>"
      ],
      "text/plain": [
       "         imdb_id                    title  \\\n",
       "0      tt1002561                    02:13   \n",
       "1      tt1261041                    02:22   \n",
       "2      tt0472582                    02:37   \n",
       "3      tt2048688                    08:46   \n",
       "4      tt0312318                   09-nov   \n",
       "...          ...                      ...   \n",
       "15914  tt0485061         uwantme2killhim?   \n",
       "15915  tt0295701                      xXx   \n",
       "15916  tt0329774  xXx: State of the Union   \n",
       "15917  tt0402022                Ãon Flux   \n",
       "15918  tt0257290              Ãvegtigris   \n",
       "\n",
       "                                            poster_links  \\\n",
       "0      https://images-na.ssl-images-amazon.com/images...   \n",
       "1      https://images-na.ssl-images-amazon.com/images...   \n",
       "2      https://images-na.ssl-images-amazon.com/images...   \n",
       "3      https://images-na.ssl-images-amazon.com/images...   \n",
       "4      https://images-na.ssl-images-amazon.com/images...   \n",
       "...                                                  ...   \n",
       "15914  https://images-na.ssl-images-amazon.com/images...   \n",
       "15915  https://images-na.ssl-images-amazon.com/images...   \n",
       "15916  https://images-na.ssl-images-amazon.com/images...   \n",
       "15917  https://images-na.ssl-images-amazon.com/images...   \n",
       "15918  https://images-na.ssl-images-amazon.com/images...   \n",
       "\n",
       "                                                    tags  \n",
       "0      a polic profil ha just return from psychiatr l...  \n",
       "1      the plan wa easy; the job wa not. on a snowi n...  \n",
       "2      a contemporary, ensembl drama tell the complex...  \n",
       "3      a glimps into the live of an ensembl of charac...  \n",
       "4      an on-the-scen documentari follow the event of...  \n",
       "...                                                  ...  \n",
       "15914  base on the vaniti fair articl of the same tit...  \n",
       "15915  xander cage is your standard adrenalin junki w...  \n",
       "15916  ice cube star as dariu stone, a thrill-seek tr...  \n",
       "15917  400 year into the future, diseas ha wipe out t...  \n",
       "15918  thi film tell the stori of a few unev day in t...  \n",
       "\n",
       "[15919 rows x 4 columns]"
      ]
     },
     "execution_count": 61,
     "metadata": {},
     "output_type": "execute_result"
    }
   ],
   "source": [
    "movies"
   ]
  },
  {
   "cell_type": "code",
   "execution_count": 62,
   "metadata": {
    "executionInfo": {
     "elapsed": 398,
     "status": "ok",
     "timestamp": 1732716553899,
     "user": {
      "displayName": "Yiskaa",
      "userId": "Hidden"
     },
     "user_tz": -330
    },
    "id": "fs8-Ir5I7QWg"
   },
   "outputs": [],
   "source": [
    "from sklearn.feature_extraction.text import CountVectorizer\n",
    "cv = CountVectorizer(max_features=2000, stop_words='english')"
   ]
  },
  {
   "cell_type": "code",
   "execution_count": 63,
   "metadata": {
    "executionInfo": {
     "elapsed": 2167,
     "status": "ok",
     "timestamp": 1732716558866,
     "user": {
      "displayName": "Yiskaa",
      "userId": "Hidden"
     },
     "user_tz": -330
    },
    "id": "wc8ql8_17QWg"
   },
   "outputs": [],
   "source": [
    "fitted_vector = cv.fit_transform(movies[\"tags\"]).toarray()"
   ]
  },
  {
   "cell_type": "code",
   "execution_count": 64,
   "metadata": {
    "colab": {
     "base_uri": "https://localhost:8080/"
    },
    "executionInfo": {
     "elapsed": 3,
     "status": "ok",
     "timestamp": 1732716560299,
     "user": {
      "displayName": "Yiskaa",
      "userId": "Hidden"
     },
     "user_tz": -330
    },
    "id": "SE1JjZmp7QWh",
    "outputId": "dd4205be-4c1d-464c-cc0b-9a09930c5459"
   },
   "outputs": [
    {
     "data": {
      "text/plain": [
       "array([0, 0, 0, ..., 0, 0, 0])"
      ]
     },
     "execution_count": 64,
     "metadata": {},
     "output_type": "execute_result"
    }
   ],
   "source": [
    "fitted_vector[0]"
   ]
  },
  {
   "cell_type": "code",
   "execution_count": 65,
   "metadata": {
    "colab": {
     "base_uri": "https://localhost:8080/"
    },
    "executionInfo": {
     "elapsed": 504,
     "status": "ok",
     "timestamp": 1732716567129,
     "user": {
      "displayName": "Yiskaa",
      "userId": "Hidden"
     },
     "user_tz": -330
    },
    "id": "R_WWbr647QWl",
    "outputId": "ab08b401-3dd4-4df7-996a-47fa313afff0"
   },
   "outputs": [
    {
     "name": "stdout",
     "output_type": "stream",
     "text": [
      "['000' '10' '100' ... 'youth' 'zombi' 'zone']\n"
     ]
    }
   ],
   "source": [
    "print(cv.get_feature_names_out())"
   ]
  },
  {
   "cell_type": "code",
   "execution_count": 66,
   "metadata": {
    "colab": {
     "base_uri": "https://localhost:8080/",
     "height": 147
    },
    "executionInfo": {
     "elapsed": 659,
     "status": "ok",
     "timestamp": 1732716574974,
     "user": {
      "displayName": "Yiskaa",
      "userId": "Hidden"
     },
     "user_tz": -330
    },
    "id": "KjevmE1p7QWl",
    "outputId": "779256ab-9b43-4767-8b65-d4210ea162c8"
   },
   "outputs": [
    {
     "data": {
      "text/plain": [
       "0    a polic profil ha just return from psychiatr l...\n",
       "1    the plan wa easy; the job wa not. on a snowi n...\n",
       "Name: tags, dtype: object"
      ]
     },
     "execution_count": 66,
     "metadata": {},
     "output_type": "execute_result"
    }
   ],
   "source": [
    "movies[\"tags\"].head(2)"
   ]
  },
  {
   "cell_type": "code",
   "execution_count": 67,
   "metadata": {
    "executionInfo": {
     "elapsed": 385,
     "status": "ok",
     "timestamp": 1732716596891,
     "user": {
      "displayName": "Yiskaa",
      "userId": "Hidden"
     },
     "user_tz": -330
    },
    "id": "Io-dOq3a7QWl"
   },
   "outputs": [],
   "source": [
    "from sklearn.metrics.pairwise import cosine_similarity"
   ]
  },
  {
   "cell_type": "code",
   "execution_count": 68,
   "metadata": {
    "executionInfo": {
     "elapsed": 51193,
     "status": "ok",
     "timestamp": 1732716652231,
     "user": {
      "displayName": "Yiskaa",
      "userId": "Hidden"
     },
     "user_tz": -330
    },
    "id": "4LktNySY7QWl"
   },
   "outputs": [],
   "source": [
    "similarity=cosine_similarity(fitted_vector)"
   ]
  },
  {
   "cell_type": "code",
   "execution_count": 69,
   "metadata": {
    "executionInfo": {
     "elapsed": 397,
     "status": "ok",
     "timestamp": 1732716669582,
     "user": {
      "displayName": "Yiskaa",
      "userId": "Hidden"
     },
     "user_tz": -330
    },
    "id": "e60WQTs_7QWl"
   },
   "outputs": [],
   "source": [
    "def recommend_movies(movie):\n",
    "\n",
    "    movie_index = movies[movies['title'] == movie].index[0]\n",
    "    distances = similarity[movie_index]\n",
    "    movies_list = sorted(list(enumerate(distances)), reverse=True, key=lambda x: x[1])[1:6]\n",
    "\n",
    "    print(\"Recommended movies:\")\n",
    "    for i in movies_list:\n",
    "        print(movies.iloc[i[0]]['title'])"
   ]
  },
  {
   "cell_type": "code",
   "execution_count": 70,
   "metadata": {
    "colab": {
     "base_uri": "https://localhost:8080/"
    },
    "executionInfo": {
     "elapsed": 655,
     "status": "ok",
     "timestamp": 1732716677216,
     "user": {
      "displayName": "Yiskaa",
      "userId": "Hidden"
     },
     "user_tz": -330
    },
    "id": "wD0FGfZB9iYn",
    "outputId": "c947dc24-c4ee-4e4a-e6aa-bb1d9cb08470"
   },
   "outputs": [
    {
     "name": "stdout",
     "output_type": "stream",
     "text": [
      "Recommended movies:\n",
      "Epic Movie\n",
      "Snow White and the Huntsman\n",
      "My Brother the Pig\n",
      "Alice Through the Looking Glass\n",
      "All Dogs Go to Heaven 2\n"
     ]
    }
   ],
   "source": [
    "recommend_movies(\"Alice in Wonderland\")"
   ]
  },
  {
   "cell_type": "code",
   "execution_count": 71,
   "metadata": {
    "colab": {
     "base_uri": "https://localhost:8080/"
    },
    "executionInfo": {
     "elapsed": 428,
     "status": "ok",
     "timestamp": 1732716685363,
     "user": {
      "displayName": "Yiskaa",
      "userId": "Hidden"
     },
     "user_tz": -330
    },
    "id": "bcd3iZnj9kMk",
    "outputId": "18b4b168-eaaa-4742-dd98-1876df123476"
   },
   "outputs": [
    {
     "name": "stdout",
     "output_type": "stream",
     "text": [
      "Recommended movies:\n",
      "Crossfire Trail\n",
      "Stardust\n",
      "The River Why\n",
      "Tarzan and the Lost City\n",
      "The Messengers 2: The Scarecrow\n"
     ]
    }
   ],
   "source": [
    "recommend_movies(\"Robin Hood\")"
   ]
  },
  {
   "cell_type": "code",
   "execution_count": 72,
   "metadata": {
    "executionInfo": {
     "elapsed": 406,
     "status": "ok",
     "timestamp": 1732716707969,
     "user": {
      "displayName": "Yiskaa",
      "userId": "Hidden"
     },
     "user_tz": -330
    },
    "id": "eLgVzEnw9opx"
   },
   "outputs": [],
   "source": [
    "import pickle"
   ]
  },
  {
   "cell_type": "code",
   "execution_count": 73,
   "metadata": {
    "executionInfo": {
     "elapsed": 507,
     "status": "ok",
     "timestamp": 1732716714692,
     "user": {
      "displayName": "Yiskaa",
      "userId": "Hidden"
     },
     "user_tz": -330
    },
    "id": "Hpfgxd4O9rxD"
   },
   "outputs": [],
   "source": [
    "pickle.dump(movies,open('movie_list.pkl','wb'))"
   ]
  },
  {
   "cell_type": "code",
   "execution_count": 74,
   "metadata": {
    "executionInfo": {
     "elapsed": 56234,
     "status": "ok",
     "timestamp": 1732716793448,
     "user": {
      "displayName": "Yiskaa",
      "userId": "Hidden"
     },
     "user_tz": -330
    },
    "id": "KAn7sGVA9vRW"
   },
   "outputs": [],
   "source": [
    "pickle.dump(similarity,open(\"similarity.pkl\",\"wb\"))"
   ]
  }
 ],
 "metadata": {
  "accelerator": "TPU",
  "colab": {
   "gpuType": "V28",
   "provenance": []
  },
  "kernelspec": {
   "display_name": "ym-mrs-env",
   "language": "python",
   "name": "python3"
  },
  "language_info": {
   "codemirror_mode": {
    "name": "ipython",
    "version": 3
   },
   "file_extension": ".py",
   "mimetype": "text/x-python",
   "name": "python",
   "nbconvert_exporter": "python",
   "pygments_lexer": "ipython3",
   "version": "3.12.6"
  }
 },
 "nbformat": 4,
 "nbformat_minor": 0
}
